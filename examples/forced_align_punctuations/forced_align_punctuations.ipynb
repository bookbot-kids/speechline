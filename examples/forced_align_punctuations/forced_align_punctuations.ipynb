{
 "cells": [
  {
   "cell_type": "code",
   "execution_count": 1,
   "metadata": {},
   "outputs": [],
   "source": [
    "from speechline.transcribers import Wav2Vec2Transcriber\n",
    "\n",
    "transcriber = Wav2Vec2Transcriber(\"bookbot/wav2vec2-ljspeech-gruut\")"
   ]
  },
  {
   "cell_type": "code",
   "execution_count": 2,
   "metadata": {},
   "outputs": [],
   "source": [
    "from datasets import Dataset, Audio\n",
    "\n",
    "dataset = Dataset.from_dict({\"audio\": [\"sample.wav\"]})\n",
    "dataset = dataset.cast_column(\"audio\", Audio(sampling_rate=transcriber.sampling_rate))"
   ]
  },
  {
   "cell_type": "code",
   "execution_count": 3,
   "metadata": {},
   "outputs": [
    {
     "data": {
      "application/vnd.jupyter.widget-view+json": {
       "model_id": "0b8bd1bfaf58461f814e914830b944a6",
       "version_major": 2,
       "version_minor": 0
      },
      "text/plain": [
       "Transcribing Audios:   0%|          | 0/1 [00:00<?, ?ex/s]"
      ]
     },
     "metadata": {},
     "output_type": "display_data"
    }
   ],
   "source": [
    "phoneme_offsets = transcriber.predict(dataset, output_offsets=True)"
   ]
  },
  {
   "cell_type": "code",
   "execution_count": 4,
   "metadata": {},
   "outputs": [],
   "source": [
    "from gruut import sentences\n",
    "\n",
    "\n",
    "def g2p(text):\n",
    "    phonemes = []\n",
    "    for words in sentences(text):\n",
    "        for word in words:\n",
    "            if word.is_major_break or word.is_minor_break:\n",
    "                phonemes += word.text\n",
    "            elif word.phonemes:\n",
    "                phonemes += word.phonemes\n",
    "    return phonemes"
   ]
  },
  {
   "cell_type": "code",
   "execution_count": 5,
   "metadata": {},
   "outputs": [
    {
     "data": {
      "text/plain": [
       "'Her red umbrella, is just the best!'"
      ]
     },
     "execution_count": 5,
     "metadata": {},
     "output_type": "execute_result"
    }
   ],
   "source": [
    "text = open(\"sample.txt\").readline()\n",
    "text"
   ]
  },
  {
   "cell_type": "code",
   "execution_count": 6,
   "metadata": {},
   "outputs": [
    {
     "data": {
      "text/plain": [
       "[{'end_time': 0.04, 'phoneme': 'h', 'start_time': 0.0},\n",
       " {'end_time': 0.2, 'phoneme': 'h', 'start_time': 0.14},\n",
       " {'end_time': 0.28, 'phoneme': 'ɚ', 'start_time': 0.24},\n",
       " {'end_time': 0.44, 'phoneme': 'i', 'start_time': 0.42},\n",
       " {'end_time': 0.54, 'phoneme': 'd', 'start_time': 0.5},\n",
       " {'end_time': 0.66, 'phoneme': 'ʌ', 'start_time': 0.64},\n",
       " {'end_time': 0.74, 'phoneme': 'm', 'start_time': 0.7},\n",
       " {'end_time': 0.82, 'phoneme': 'b', 'start_time': 0.78},\n",
       " {'end_time': 0.9, 'phoneme': 'ɹ', 'start_time': 0.84},\n",
       " {'end_time': 0.94, 'phoneme': 'ɛ', 'start_time': 0.92},\n",
       " {'end_time': 1.04, 'phoneme': 'l', 'start_time': 1.0},\n",
       " {'end_time': 1.12, 'phoneme': 'ə', 'start_time': 1.08},\n",
       " {'phoneme': ',', 'start_time': 1.12, 'end_time': 1.36},\n",
       " {'end_time': 1.38, 'phoneme': 'ɪ', 'start_time': 1.36},\n",
       " {'end_time': 1.58, 'phoneme': 'z', 'start_time': 1.54},\n",
       " {'end_time': 1.62, 'phoneme': 'd͡ʒ', 'start_time': 1.58},\n",
       " {'end_time': 1.66, 'phoneme': 'ʌ', 'start_time': 1.62},\n",
       " {'end_time': 1.76, 'phoneme': 's', 'start_time': 1.72},\n",
       " {'end_time': 1.82, 'phoneme': 't', 'start_time': 1.78},\n",
       " {'end_time': 1.88, 'phoneme': 'ð', 'start_time': 1.86},\n",
       " {'end_time': 1.94, 'phoneme': 'ə', 'start_time': 1.92},\n",
       " {'end_time': 2.0, 'phoneme': 'b', 'start_time': 1.98},\n",
       " {'end_time': 2.06, 'phoneme': 'ɛ', 'start_time': 2.04},\n",
       " {'end_time': 2.26, 'phoneme': 's', 'start_time': 2.22},\n",
       " {'end_time': 2.4, 'phoneme': 't', 'start_time': 2.38},\n",
       " {'phoneme': '!', 'start_time': 2.4, 'end_time': 2.4}]"
      ]
     },
     "execution_count": 6,
     "metadata": {},
     "output_type": "execute_result"
    }
   ],
   "source": [
    "from speechline.utils.aligners import PunctuationForcedAligner\n",
    "\n",
    "pfa = PunctuationForcedAligner(g2p)\n",
    "pfa(phoneme_offsets[0], text)"
   ]
  },
  {
   "cell_type": "code",
   "execution_count": null,
   "metadata": {},
   "outputs": [],
   "source": []
  }
 ],
 "metadata": {
  "kernelspec": {
   "display_name": "torch",
   "language": "python",
   "name": "python3"
  },
  "language_info": {
   "codemirror_mode": {
    "name": "ipython",
    "version": 3
   },
   "file_extension": ".py",
   "mimetype": "text/x-python",
   "name": "python",
   "nbconvert_exporter": "python",
   "pygments_lexer": "ipython3",
   "version": "3.8.15"
  },
  "orig_nbformat": 4,
  "vscode": {
   "interpreter": {
    "hash": "7288f315087fdb0a15835a979a50c8db3e0e21492381bafafe9d84f995bbb7dd"
   }
  }
 },
 "nbformat": 4,
 "nbformat_minor": 2
}
