{
  "cells": [
    {
      "cell_type": "markdown",
      "source": [
        "# Force Aligning Punctuations\n",
        "\n",
        "This guide will show the steps on how to align (or recover) punctuation using a Punctuation Alinger from SpeechLine. \n",
        "\n",
        "As you may or may not know, phoneme transcription results from Wav2Vec 2.0 does not include punctuations. You can restore and align punctuations by simply passing in the ground truth text to [`PunctuationForcedAligner`](../../reference/aligners/punctuation_forced_aligner)."
      ],
      "metadata": {
        "id": "n9RY3z-r4atb"
      }
    },
    {
      "cell_type": "markdown",
      "source": [
        "The first step is, of course, to transcribe your text by loading in the transcription model"
      ],
      "metadata": {
        "id": "4fGDGcpP7T_P"
      }
    },
    {
      "cell_type": "code",
      "execution_count": 10,
      "metadata": {
        "id": "v5A9s4Er4KtY"
      },
      "outputs": [],
      "source": [
        "from speechline.transcribers import Wav2Vec2Transcriber\n",
        "\n",
        "transcriber = Wav2Vec2Transcriber(\"bookbot/wav2vec2-ljspeech-gruut\")"
      ]
    },
    {
      "cell_type": "markdown",
      "source": [
        "Load the audio file into a `Dataset` format and pass it into the model"
      ],
      "metadata": {
        "id": "S1-FdMOi7mf4"
      }
    },
    {
      "cell_type": "code",
      "execution_count": 11,
      "metadata": {
        "id": "c29cnIZk4KtZ"
      },
      "outputs": [],
      "source": [
        "from datasets import Dataset, Audio\n",
        "\n",
        "dataset = Dataset.from_dict({\"audio\": [\"sample.wav\"]})\n",
        "dataset = dataset.cast_column(\"audio\", Audio(sampling_rate=transcriber.sampling_rate))"
      ]
    },
    {
      "cell_type": "code",
      "execution_count": 12,
      "metadata": {
        "colab": {
          "referenced_widgets": [
            "ac3d5c10db3a4c50831eec4affc9a573",
            "06d490ecb2ae4ea1954ae8b89eb4a723",
            "d499ed016ee84916bc24f66d86d3785e",
            "4608b9b012014805904d0ca1a3868051",
            "6372d9d9954a49868f0a2496c9f382d6",
            "b25a27da6f3c4b07abb1ad69561361b5",
            "e5edf49bcbf14400809a08466e975e72",
            "8da34850c13a4fedae24698206916581",
            "52ebfc64f58e49228385e07199040724",
            "6cc1b2d92e64404f9a33debfa71c0fda",
            "31fbf3d2c4a84da3a42855c573c57d7a"
          ],
          "base_uri": "https://localhost:8080/",
          "height": 17
        },
        "id": "Jkkb5cZv4Kta",
        "outputId": "68a63721-3033-4019-80a3-510ab5c34785"
      },
      "outputs": [
        {
          "output_type": "display_data",
          "data": {
            "text/plain": [
              "Transcribing Audios:   0%|          | 0/1 [00:00<?, ? examples/s]"
            ],
            "application/vnd.jupyter.widget-view+json": {
              "version_major": 2,
              "version_minor": 0,
              "model_id": "ac3d5c10db3a4c50831eec4affc9a573"
            }
          },
          "metadata": {}
        }
      ],
      "source": [
        "phoneme_offsets = transcriber.predict(dataset, output_offsets=True)"
      ]
    },
    {
      "cell_type": "markdown",
      "source": [
        "Now we will need utilize `gruut`, a grapheme-to-phoneme library that can help transform our ground truth text (given in `sample.txt`) into phonemes. Note that `gruut` retains punctuations during the g2p conversion. This information will be exploited by SpeechLine's `PunctuationForcedAligner` to restore the punctuations from the Wav2Vec 2.0 output.\n",
        "\n",
        "Simply use the following g2p function to convert any text string into phonemes. You can, of course, provide your own g2p function if you wish to do so."
      ],
      "metadata": {
        "id": "x64a8N4G75dv"
      }
    },
    {
      "cell_type": "code",
      "execution_count": 13,
      "metadata": {
        "id": "a6atdqDw4Ktc"
      },
      "outputs": [],
      "source": [
        "from gruut import sentences\n",
        "\n",
        "\n",
        "def g2p(text):\n",
        "    phonemes = []\n",
        "    for words in sentences(text):\n",
        "        for word in words:\n",
        "            if word.is_major_break or word.is_minor_break:\n",
        "                phonemes += word.text\n",
        "            elif word.phonemes:\n",
        "                phonemes += word.phonemes\n",
        "    return phonemes"
      ]
    },
    {
      "cell_type": "code",
      "execution_count": 14,
      "metadata": {
        "id": "9SGMUenf4Ktd",
        "outputId": "96c8f8a3-bc72-40e5-9b9d-47a4e7e94a76",
        "colab": {
          "base_uri": "https://localhost:8080/",
          "height": 35
        }
      },
      "outputs": [
        {
          "output_type": "execute_result",
          "data": {
            "text/plain": [
              "'Her red umbrella, is just the best!'"
            ],
            "application/vnd.google.colaboratory.intrinsic+json": {
              "type": "string"
            }
          },
          "metadata": {},
          "execution_count": 14
        }
      ],
      "source": [
        "text = open(\"sample.txt\").readline()\n",
        "text"
      ]
    },
    {
      "cell_type": "markdown",
      "source": [
        "Instantiate `PunctuationForcedAlinger` by passing into it your g2p function. Finally, you can perform punctuation restoration by feeding in the offsets from the transcription model and the ground truth text."
      ],
      "metadata": {
        "id": "hB1pVKYj9JS1"
      }
    },
    {
      "cell_type": "code",
      "execution_count": 15,
      "metadata": {
        "id": "8BKGKFLv4Ktd",
        "outputId": "340983e9-08cf-45f9-ff87-67f15d1c218c",
        "colab": {
          "base_uri": "https://localhost:8080/"
        }
      },
      "outputs": [
        {
          "output_type": "execute_result",
          "data": {
            "text/plain": [
              "[{'end_time': 0.04, 'start_time': 0.0, 'text': 'h'},\n",
              " {'end_time': 0.2, 'start_time': 0.14, 'text': 'h'},\n",
              " {'end_time': 0.28, 'start_time': 0.24, 'text': 'ɚ'},\n",
              " {'end_time': 0.44, 'start_time': 0.42, 'text': 'i'},\n",
              " {'end_time': 0.54, 'start_time': 0.5, 'text': 'd'},\n",
              " {'end_time': 0.66, 'start_time': 0.64, 'text': 'ʌ'},\n",
              " {'end_time': 0.74, 'start_time': 0.7, 'text': 'm'},\n",
              " {'end_time': 0.82, 'start_time': 0.78, 'text': 'b'},\n",
              " {'end_time': 0.9, 'start_time': 0.84, 'text': 'ɹ'},\n",
              " {'end_time': 0.94, 'start_time': 0.92, 'text': 'ɛ'},\n",
              " {'end_time': 1.04, 'start_time': 1.0, 'text': 'l'},\n",
              " {'text': ',', 'start_time': 1.04, 'end_time': 1.08},\n",
              " {'end_time': 1.12, 'start_time': 1.08, 'text': 'ə'},\n",
              " {'end_time': 1.38, 'start_time': 1.36, 'text': 'ɪ'},\n",
              " {'end_time': 1.66, 'start_time': 1.54, 'text': 'zd͡ʒʌ'},\n",
              " {'end_time': 1.76, 'start_time': 1.72, 'text': 's'},\n",
              " {'end_time': 1.82, 'start_time': 1.78, 'text': 't'},\n",
              " {'end_time': 1.88, 'start_time': 1.86, 'text': 'ð'},\n",
              " {'end_time': 1.94, 'start_time': 1.92, 'text': 'ə'},\n",
              " {'end_time': 2.0, 'start_time': 1.98, 'text': 'b'},\n",
              " {'end_time': 2.06, 'start_time': 2.04, 'text': 'ɛ'},\n",
              " {'end_time': 2.26, 'start_time': 2.22, 'text': 's'},\n",
              " {'end_time': 2.4, 'start_time': 2.38, 'text': 't'},\n",
              " {'text': '!', 'start_time': 2.4, 'end_time': 2.4}]"
            ]
          },
          "metadata": {},
          "execution_count": 15
        }
      ],
      "source": [
        "from speechline.aligners import PunctuationForcedAligner\n",
        "\n",
        "pfa = PunctuationForcedAligner(g2p)\n",
        "pfa(phoneme_offsets[0], text)"
      ]
    },
    {
      "cell_type": "code",
      "source": [],
      "metadata": {
        "id": "Z41VAF5b1MY_"
      },
      "execution_count": null,
      "outputs": []
    }
  ],
  "metadata": {
    "kernelspec": {
      "display_name": "torch",
      "language": "python",
      "name": "python3"
    },
    "language_info": {
      "codemirror_mode": {
        "name": "ipython",
        "version": 3
      },
      "file_extension": ".py",
      "mimetype": "text/x-python",
      "name": "python",
      "nbconvert_exporter": "python",
      "pygments_lexer": "ipython3",
      "version": "3.8.15"
    },
    "orig_nbformat": 4,
    "vscode": {
      "interpreter": {
        "hash": "7288f315087fdb0a15835a979a50c8db3e0e21492381bafafe9d84f995bbb7dd"
      }
    },
    "colab": {
      "provenance": []
    },
    "widgets": {
      "application/vnd.jupyter.widget-state+json": {
        "ac3d5c10db3a4c50831eec4affc9a573": {
          "model_module": "@jupyter-widgets/controls",
          "model_name": "HBoxModel",
          "model_module_version": "1.5.0",
          "state": {
            "_dom_classes": [],
            "_model_module": "@jupyter-widgets/controls",
            "_model_module_version": "1.5.0",
            "_model_name": "HBoxModel",
            "_view_count": null,
            "_view_module": "@jupyter-widgets/controls",
            "_view_module_version": "1.5.0",
            "_view_name": "HBoxView",
            "box_style": "",
            "children": [
              "IPY_MODEL_06d490ecb2ae4ea1954ae8b89eb4a723",
              "IPY_MODEL_d499ed016ee84916bc24f66d86d3785e",
              "IPY_MODEL_4608b9b012014805904d0ca1a3868051"
            ],
            "layout": "IPY_MODEL_6372d9d9954a49868f0a2496c9f382d6"
          }
        },
        "06d490ecb2ae4ea1954ae8b89eb4a723": {
          "model_module": "@jupyter-widgets/controls",
          "model_name": "HTMLModel",
          "model_module_version": "1.5.0",
          "state": {
            "_dom_classes": [],
            "_model_module": "@jupyter-widgets/controls",
            "_model_module_version": "1.5.0",
            "_model_name": "HTMLModel",
            "_view_count": null,
            "_view_module": "@jupyter-widgets/controls",
            "_view_module_version": "1.5.0",
            "_view_name": "HTMLView",
            "description": "",
            "description_tooltip": null,
            "layout": "IPY_MODEL_b25a27da6f3c4b07abb1ad69561361b5",
            "placeholder": "​",
            "style": "IPY_MODEL_e5edf49bcbf14400809a08466e975e72",
            "value": "Transcribing Audios: 100%"
          }
        },
        "d499ed016ee84916bc24f66d86d3785e": {
          "model_module": "@jupyter-widgets/controls",
          "model_name": "FloatProgressModel",
          "model_module_version": "1.5.0",
          "state": {
            "_dom_classes": [],
            "_model_module": "@jupyter-widgets/controls",
            "_model_module_version": "1.5.0",
            "_model_name": "FloatProgressModel",
            "_view_count": null,
            "_view_module": "@jupyter-widgets/controls",
            "_view_module_version": "1.5.0",
            "_view_name": "ProgressView",
            "bar_style": "",
            "description": "",
            "description_tooltip": null,
            "layout": "IPY_MODEL_8da34850c13a4fedae24698206916581",
            "max": 1,
            "min": 0,
            "orientation": "horizontal",
            "style": "IPY_MODEL_52ebfc64f58e49228385e07199040724",
            "value": 1
          }
        },
        "4608b9b012014805904d0ca1a3868051": {
          "model_module": "@jupyter-widgets/controls",
          "model_name": "HTMLModel",
          "model_module_version": "1.5.0",
          "state": {
            "_dom_classes": [],
            "_model_module": "@jupyter-widgets/controls",
            "_model_module_version": "1.5.0",
            "_model_name": "HTMLModel",
            "_view_count": null,
            "_view_module": "@jupyter-widgets/controls",
            "_view_module_version": "1.5.0",
            "_view_name": "HTMLView",
            "description": "",
            "description_tooltip": null,
            "layout": "IPY_MODEL_6cc1b2d92e64404f9a33debfa71c0fda",
            "placeholder": "​",
            "style": "IPY_MODEL_31fbf3d2c4a84da3a42855c573c57d7a",
            "value": " 1/1 [00:01&lt;00:00,  1.57s/ examples]"
          }
        },
        "6372d9d9954a49868f0a2496c9f382d6": {
          "model_module": "@jupyter-widgets/base",
          "model_name": "LayoutModel",
          "model_module_version": "1.2.0",
          "state": {
            "_model_module": "@jupyter-widgets/base",
            "_model_module_version": "1.2.0",
            "_model_name": "LayoutModel",
            "_view_count": null,
            "_view_module": "@jupyter-widgets/base",
            "_view_module_version": "1.2.0",
            "_view_name": "LayoutView",
            "align_content": null,
            "align_items": null,
            "align_self": null,
            "border": null,
            "bottom": null,
            "display": null,
            "flex": null,
            "flex_flow": null,
            "grid_area": null,
            "grid_auto_columns": null,
            "grid_auto_flow": null,
            "grid_auto_rows": null,
            "grid_column": null,
            "grid_gap": null,
            "grid_row": null,
            "grid_template_areas": null,
            "grid_template_columns": null,
            "grid_template_rows": null,
            "height": null,
            "justify_content": null,
            "justify_items": null,
            "left": null,
            "margin": null,
            "max_height": null,
            "max_width": null,
            "min_height": null,
            "min_width": null,
            "object_fit": null,
            "object_position": null,
            "order": null,
            "overflow": null,
            "overflow_x": null,
            "overflow_y": null,
            "padding": null,
            "right": null,
            "top": null,
            "visibility": "hidden",
            "width": null
          }
        },
        "b25a27da6f3c4b07abb1ad69561361b5": {
          "model_module": "@jupyter-widgets/base",
          "model_name": "LayoutModel",
          "model_module_version": "1.2.0",
          "state": {
            "_model_module": "@jupyter-widgets/base",
            "_model_module_version": "1.2.0",
            "_model_name": "LayoutModel",
            "_view_count": null,
            "_view_module": "@jupyter-widgets/base",
            "_view_module_version": "1.2.0",
            "_view_name": "LayoutView",
            "align_content": null,
            "align_items": null,
            "align_self": null,
            "border": null,
            "bottom": null,
            "display": null,
            "flex": null,
            "flex_flow": null,
            "grid_area": null,
            "grid_auto_columns": null,
            "grid_auto_flow": null,
            "grid_auto_rows": null,
            "grid_column": null,
            "grid_gap": null,
            "grid_row": null,
            "grid_template_areas": null,
            "grid_template_columns": null,
            "grid_template_rows": null,
            "height": null,
            "justify_content": null,
            "justify_items": null,
            "left": null,
            "margin": null,
            "max_height": null,
            "max_width": null,
            "min_height": null,
            "min_width": null,
            "object_fit": null,
            "object_position": null,
            "order": null,
            "overflow": null,
            "overflow_x": null,
            "overflow_y": null,
            "padding": null,
            "right": null,
            "top": null,
            "visibility": null,
            "width": null
          }
        },
        "e5edf49bcbf14400809a08466e975e72": {
          "model_module": "@jupyter-widgets/controls",
          "model_name": "DescriptionStyleModel",
          "model_module_version": "1.5.0",
          "state": {
            "_model_module": "@jupyter-widgets/controls",
            "_model_module_version": "1.5.0",
            "_model_name": "DescriptionStyleModel",
            "_view_count": null,
            "_view_module": "@jupyter-widgets/base",
            "_view_module_version": "1.2.0",
            "_view_name": "StyleView",
            "description_width": ""
          }
        },
        "8da34850c13a4fedae24698206916581": {
          "model_module": "@jupyter-widgets/base",
          "model_name": "LayoutModel",
          "model_module_version": "1.2.0",
          "state": {
            "_model_module": "@jupyter-widgets/base",
            "_model_module_version": "1.2.0",
            "_model_name": "LayoutModel",
            "_view_count": null,
            "_view_module": "@jupyter-widgets/base",
            "_view_module_version": "1.2.0",
            "_view_name": "LayoutView",
            "align_content": null,
            "align_items": null,
            "align_self": null,
            "border": null,
            "bottom": null,
            "display": null,
            "flex": null,
            "flex_flow": null,
            "grid_area": null,
            "grid_auto_columns": null,
            "grid_auto_flow": null,
            "grid_auto_rows": null,
            "grid_column": null,
            "grid_gap": null,
            "grid_row": null,
            "grid_template_areas": null,
            "grid_template_columns": null,
            "grid_template_rows": null,
            "height": null,
            "justify_content": null,
            "justify_items": null,
            "left": null,
            "margin": null,
            "max_height": null,
            "max_width": null,
            "min_height": null,
            "min_width": null,
            "object_fit": null,
            "object_position": null,
            "order": null,
            "overflow": null,
            "overflow_x": null,
            "overflow_y": null,
            "padding": null,
            "right": null,
            "top": null,
            "visibility": null,
            "width": null
          }
        },
        "52ebfc64f58e49228385e07199040724": {
          "model_module": "@jupyter-widgets/controls",
          "model_name": "ProgressStyleModel",
          "model_module_version": "1.5.0",
          "state": {
            "_model_module": "@jupyter-widgets/controls",
            "_model_module_version": "1.5.0",
            "_model_name": "ProgressStyleModel",
            "_view_count": null,
            "_view_module": "@jupyter-widgets/base",
            "_view_module_version": "1.2.0",
            "_view_name": "StyleView",
            "bar_color": null,
            "description_width": ""
          }
        },
        "6cc1b2d92e64404f9a33debfa71c0fda": {
          "model_module": "@jupyter-widgets/base",
          "model_name": "LayoutModel",
          "model_module_version": "1.2.0",
          "state": {
            "_model_module": "@jupyter-widgets/base",
            "_model_module_version": "1.2.0",
            "_model_name": "LayoutModel",
            "_view_count": null,
            "_view_module": "@jupyter-widgets/base",
            "_view_module_version": "1.2.0",
            "_view_name": "LayoutView",
            "align_content": null,
            "align_items": null,
            "align_self": null,
            "border": null,
            "bottom": null,
            "display": null,
            "flex": null,
            "flex_flow": null,
            "grid_area": null,
            "grid_auto_columns": null,
            "grid_auto_flow": null,
            "grid_auto_rows": null,
            "grid_column": null,
            "grid_gap": null,
            "grid_row": null,
            "grid_template_areas": null,
            "grid_template_columns": null,
            "grid_template_rows": null,
            "height": null,
            "justify_content": null,
            "justify_items": null,
            "left": null,
            "margin": null,
            "max_height": null,
            "max_width": null,
            "min_height": null,
            "min_width": null,
            "object_fit": null,
            "object_position": null,
            "order": null,
            "overflow": null,
            "overflow_x": null,
            "overflow_y": null,
            "padding": null,
            "right": null,
            "top": null,
            "visibility": null,
            "width": null
          }
        },
        "31fbf3d2c4a84da3a42855c573c57d7a": {
          "model_module": "@jupyter-widgets/controls",
          "model_name": "DescriptionStyleModel",
          "model_module_version": "1.5.0",
          "state": {
            "_model_module": "@jupyter-widgets/controls",
            "_model_module_version": "1.5.0",
            "_model_name": "DescriptionStyleModel",
            "_view_count": null,
            "_view_module": "@jupyter-widgets/base",
            "_view_module_version": "1.2.0",
            "_view_name": "StyleView",
            "description_width": ""
          }
        }
      }
    }
  },
  "nbformat": 4,
  "nbformat_minor": 0
}