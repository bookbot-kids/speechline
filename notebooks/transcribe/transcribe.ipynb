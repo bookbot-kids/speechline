{
  "cells": [
    {
      "cell_type": "markdown",
      "metadata": {
        "id": "27NagQHP9t3U"
      },
      "source": [
        "# Performing Audio Transcription\n",
        "\n",
        "This guide will explain how to transcribe audio files using SpeechLine.\n",
        "\n",
        "First, load in the your transcription model by passing its Hugging Face model checkpoint into [`Wav2Vec2Transcriber`](../../reference/transcribers/wav2vec2)"
      ]
    },
    {
      "cell_type": "code",
      "execution_count": 2,
      "metadata": {
        "colab": {
          "base_uri": "https://localhost:8080/",
          "height": 241,
          "referenced_widgets": [
            "3eb2431749154c59a4e07fc1443031b0",
            "758a147e1e8342deb10013d17e8e4cb1",
            "9b2ed2863b234202a36ef28b7db7c20c",
            "781550fbd2eb4e3ba5b1ac39f671bc18",
            "952d09a581794354a065d7a1353c1135",
            "35c3505183ab4724b44d06c6cbe8756b",
            "79fa8eb0a64f4808ad97cfb35a5d1616",
            "c1a2ab42144e40469c70eb6c60e279cb",
            "f83d0c30e9cb4f01bc2260991024c87e",
            "0ad796027b6546dcb815f497aa0d2e5c",
            "ee56ef1bbe364066bc1615a3e429246b",
            "9c276b089fb944a6b6762146907624a9",
            "c25c2dd429e44e8db2d47cfdcbded791",
            "baf70d340eed448eac885cbe8d8bcf1c",
            "60ba680fb6f741f58129fa302511a6d6",
            "9f980793644a4032961667a2597b06f0",
            "c515afcd52514d29b2a26859070e2791",
            "dc205895b1964cec9523384e16cd7da8",
            "770c5b3851ac448fb1592f82ce7a9876",
            "1a7d7bce25924eebb79a48678be8d3a4",
            "8a5af20257b34554bac399929de5e9b1",
            "d74ff6d8b3fa4176963ea3be8fdad88c",
            "e80577b26bb7458f9eab0836ca1970c8",
            "03d66ca6dc3547a0b8887c582d99722c",
            "3c52db84fd3b47b5b13f4ef13168eb91",
            "8c1c98847a484e5a8aac898ff39c035e",
            "bc0b6d12819a4f6f89128e5bd43cbd97",
            "9f17dba808fd4c6fab590b8d06261da0",
            "99fb94d5f4eb47abbaf0e6aafd9eec5c",
            "ca01297aadec45bea15f591165826e66",
            "1e68d684bfe14e3496f0be3dd4eb0e9c",
            "d426e1b2cb864968bbad52263c0c9a34",
            "24bfaf5988ea4bd0bb514e487f9379fe",
            "674607add16e47828b1833cc2e84ed6c",
            "66dc7ae97d074072a09b5212a42c6009",
            "350db73a48ac43aa8e73a3efc4167d47",
            "cb5736902c0e44849045fc141be1d803",
            "31858b4e5647484e89b696c6233e7915",
            "17bef6aa685046bea907ea5eae7a8ab1",
            "1f0a67a7c8a643f0ac0b6ffbf11db7eb",
            "7d0c9115b5744e06943a12020ccce756",
            "d18a82c5543d4221aa42118a96b5d536",
            "343247031bfc41c6affd3d07c5c0e2e0",
            "13c0829333cd437993982d624ceab0db",
            "1366d335293645dd97a2d2cd71cd8108",
            "334f921c5b62464db5b0873518fb80b9",
            "bacb646d56a9490390a373a6c8c9a15f",
            "fe66740b11e946f496d68be5e2e698e8",
            "a2513aaef9f64873bcc2144c5eb2a841",
            "0a300f82b46f44ba9bec35568ec55401",
            "652f0b07663f4d88bea6efcd4adbff50",
            "254c06c47c854b0baa6c7dccba5d8fab",
            "e3ccbfdd19fb46ddb4415f30ad894542",
            "912cfb9518414467ba289f363d8cb38b",
            "18bb30dea44d4c2d82b1afb1fe012278",
            "732e636d564d4c2b930c4fe543dac9c1",
            "f3a2fd50b77f46d29ac99d67673cec2a",
            "bf3a8ba8d59d47dc8481784026cfa871",
            "2b444bc80de146779ceb59c70d900263",
            "4dd3fbf19fc2438aacd11b43b4d7e115",
            "65f149ce5b214cb798eddf79a2a634e9",
            "3bb4e673126047e2ac51fc292c268008",
            "45f5a3286b174035ae670d0b133d5957",
            "01a4bd1e25ee43bda2057d7a8b8604ab",
            "ee93aee69abf4fabb5fb5dd2eb324b86",
            "b19850d9bba741d1af443f22039312a8",
            "7ec1412c185146d7b3e595cd7409e247",
            "0ec6e2b4c9e44865bacb31aa1366781f",
            "18ac8596aedf41a8886845e72638f0ed",
            "38cce8788c5a48c2b0a32d8e1ecd50c6",
            "e595d48c99e44154a5aa196770b334a1",
            "64bff843ed8c4c3ea3eba8664a1d25cb",
            "21daf034fbeb4ddd931c243045a3fa2a",
            "068bd514dbf844899f66d0622947a35e",
            "6876f775765b4b9398799c0bca213ccc",
            "5975b80b217f4aee8ca483394ef369b1",
            "8ae6e9195e3544b8998ef76c6b7f5741"
          ]
        },
        "id": "Z6tQwGnf9t3Y",
        "outputId": "0d4ae855-82a0-4726-f593-76980684042e"
      },
      "outputs": [
        {
          "output_type": "display_data",
          "data": {
            "text/plain": [
              "Downloading (…)lve/main/config.json:   0%|          | 0.00/2.35k [00:00<?, ?B/s]"
            ],
            "application/vnd.jupyter.widget-view+json": {
              "version_major": 2,
              "version_minor": 0,
              "model_id": "3eb2431749154c59a4e07fc1443031b0"
            }
          },
          "metadata": {}
        },
        {
          "output_type": "display_data",
          "data": {
            "text/plain": [
              "Downloading pytorch_model.bin:   0%|          | 0.00/378M [00:00<?, ?B/s]"
            ],
            "application/vnd.jupyter.widget-view+json": {
              "version_major": 2,
              "version_minor": 0,
              "model_id": "9c276b089fb944a6b6762146907624a9"
            }
          },
          "metadata": {}
        },
        {
          "output_type": "display_data",
          "data": {
            "text/plain": [
              "Downloading (…)okenizer_config.json:   0%|          | 0.00/373 [00:00<?, ?B/s]"
            ],
            "application/vnd.jupyter.widget-view+json": {
              "version_major": 2,
              "version_minor": 0,
              "model_id": "e80577b26bb7458f9eab0836ca1970c8"
            }
          },
          "metadata": {}
        },
        {
          "output_type": "display_data",
          "data": {
            "text/plain": [
              "Downloading (…)olve/main/vocab.json:   0%|          | 0.00/509 [00:00<?, ?B/s]"
            ],
            "application/vnd.jupyter.widget-view+json": {
              "version_major": 2,
              "version_minor": 0,
              "model_id": "674607add16e47828b1833cc2e84ed6c"
            }
          },
          "metadata": {}
        },
        {
          "output_type": "display_data",
          "data": {
            "text/plain": [
              "Downloading (…)in/added_tokens.json:   0%|          | 0.00/30.0 [00:00<?, ?B/s]"
            ],
            "application/vnd.jupyter.widget-view+json": {
              "version_major": 2,
              "version_minor": 0,
              "model_id": "1366d335293645dd97a2d2cd71cd8108"
            }
          },
          "metadata": {}
        },
        {
          "output_type": "display_data",
          "data": {
            "text/plain": [
              "Downloading (…)cial_tokens_map.json:   0%|          | 0.00/406 [00:00<?, ?B/s]"
            ],
            "application/vnd.jupyter.widget-view+json": {
              "version_major": 2,
              "version_minor": 0,
              "model_id": "732e636d564d4c2b930c4fe543dac9c1"
            }
          },
          "metadata": {}
        },
        {
          "output_type": "display_data",
          "data": {
            "text/plain": [
              "Downloading (…)rocessor_config.json:   0%|          | 0.00/215 [00:00<?, ?B/s]"
            ],
            "application/vnd.jupyter.widget-view+json": {
              "version_major": 2,
              "version_minor": 0,
              "model_id": "7ec1412c185146d7b3e595cd7409e247"
            }
          },
          "metadata": {}
        }
      ],
      "source": [
        "from speechline.transcribers import Wav2Vec2Transcriber\n",
        "\n",
        "transcriber = Wav2Vec2Transcriber(\"bookbot/wav2vec2-ljspeech-gruut\")"
      ]
    },
    {
      "cell_type": "markdown",
      "metadata": {
        "id": "qlTZ3naZ9t3d"
      },
      "source": [
        "Next, you will need to transform your input audio file (given by `sample.wav`) into a `Dataset` format like the following"
      ]
    },
    {
      "cell_type": "code",
      "execution_count": 3,
      "metadata": {
        "id": "HWrloTks9t3e"
      },
      "outputs": [],
      "source": [
        "from datasets import Dataset, Audio\n",
        "\n",
        "dataset = Dataset.from_dict({\"audio\": [\"sample.wav\"]})\n",
        "dataset = dataset.cast_column(\"audio\", Audio(sampling_rate=transcriber.sampling_rate))"
      ]
    },
    {
      "cell_type": "markdown",
      "metadata": {
        "id": "i9w7wVdX9t3f"
      },
      "source": [
        "Once preprocessing is finished, simply pass the input data into the transcriber."
      ]
    },
    {
      "cell_type": "code",
      "execution_count": 4,
      "metadata": {
        "colab": {
          "base_uri": "https://localhost:8080/",
          "height": 17,
          "referenced_widgets": [
            "ceb7d0740e98438da6c6530d55b837fd",
            "8030ce46a09b4dcf9c859387f2326104",
            "43fd5dc2f4104e91b4d68a3fc360bae4",
            "e528e40823ce4d2b91b1e78022359ae6",
            "4f0dd9d34ccf4291a897550c2649f1a3",
            "7d49cc653e014d57bcc4fcc154b51357",
            "7479a519dc114d9991815e4c5315c09d",
            "63228d60b3494c35bb723d4845a453a2",
            "dee92219915548cc9e782f63ef888809",
            "3ed6ad40126346378ce5cae23b0dabea",
            "c93564eb12944c5f9ae3004347d96166"
          ]
        },
        "id": "SUFPEZue9t3f",
        "outputId": "0fbcb31f-eea3-485d-b611-8c6503c1c2c9"
      },
      "outputs": [
        {
          "output_type": "display_data",
          "data": {
            "text/plain": [
              "Transcribing Audios:   0%|          | 0/1 [00:00<?, ? examples/s]"
            ],
            "application/vnd.jupyter.widget-view+json": {
              "version_major": 2,
              "version_minor": 0,
              "model_id": "ceb7d0740e98438da6c6530d55b837fd"
            }
          },
          "metadata": {}
        }
      ],
      "source": [
        "phoneme_offsets = transcriber.predict(dataset, output_offsets=True)"
      ]
    },
    {
      "cell_type": "markdown",
      "metadata": {
        "id": "tTDRI0p-9t3h"
      },
      "source": [
        "The output format of the transcription model is shown below. It is a list of dictionary containing the transcribed `phoneme`, `start_time` and `end_time` stamps of the corresponding phoneme."
      ]
    },
    {
      "cell_type": "code",
      "execution_count": 5,
      "metadata": {
        "colab": {
          "base_uri": "https://localhost:8080/"
        },
        "id": "ZFiYciyg9t3i",
        "outputId": "60a429fa-4570-40ae-f8d2-5fac37801341"
      },
      "outputs": [
        {
          "output_type": "execute_result",
          "data": {
            "text/plain": [
              "[[{'end_time': 0.02, 'start_time': 0.0, 'text': 'ɪ'},\n",
              "  {'end_time': 0.3, 'start_time': 0.26, 'text': 't'},\n",
              "  {'end_time': 0.36, 'start_time': 0.34, 'text': 'ɪ'},\n",
              "  {'end_time': 0.44, 'start_time': 0.42, 'text': 'z'},\n",
              "  {'end_time': 0.62, 'start_time': 0.5, 'text': 'noʊt'},\n",
              "  {'end_time': 0.78, 'start_time': 0.76, 'text': 'ʌ'},\n",
              "  {'end_time': 0.94, 'start_time': 0.92, 'text': 'p'}]]"
            ]
          },
          "metadata": {},
          "execution_count": 5
        }
      ],
      "source": [
        "phoneme_offsets"
      ]
    },
    {
      "cell_type": "markdown",
      "metadata": {
        "id": "xjf5qjiI9t3i"
      },
      "source": [
        "You can manually check the model output by playing a segment (using the start and end timestamps) of your input audio file. \n",
        "\n",
        "First, load your audio file."
      ]
    },
    {
      "cell_type": "code",
      "execution_count": 18,
      "metadata": {
        "colab": {
          "base_uri": "https://localhost:8080/",
          "height": 75
        },
        "id": "7Qy6lKHD9t3j",
        "outputId": "b2744db5-3887-41b7-d95f-3937052feac2"
      },
      "outputs": [
        {
          "output_type": "execute_result",
          "data": {
            "text/plain": [
              "<pydub.audio_segment.AudioSegment at 0x7f1e4fa7be80>"
            ],
            "text/html": [
              "\n",
              "                    <audio controls>\n",
              "                        <source src=\"data:audio/mpeg;base64,SUQzBAAAAAAAI1RTU0UAAAAPAAADTGF2ZjU4LjI5LjEwMAAAAAAAAAAAAAAA//NYwAAAAAAAAAAAAEluZm8AAAAPAAAAJAAAD+QAEhIYGBgfHx8mJiYtLTQ0NDo6OkFBQUhIT09PVlZWXFxcY2NjampxcXF4eHh+fn6FhYyMjJOTk5qamqCgoKenrq6utbW1vLy8wsLJycnQ0NDX19fe3t7k5Ovr6/Ly8vn5+f//AAAAAExhdmM1OC41NAAAAAAAAAAAAAAAACQCwAAAAAAAAA/k4BLqtQAAAAAAAAAAAAAA//M4xAAAAANIAAAAAICAdadKyjjiBaBYTGAcFhMZBwmZFUmXTJqoTGAsrxUGTYRZ6kmD+QMgmzxYNgQLC0w/NAmKzRs51NMmTnQZxYwFhYTGQI1ZADhEVQaValkOM11yj1BDbIy7MsRv+HpC//M4xF8AAANIAAAAAMw1aeWCY2ViAs0o4Qg4pQA5Dsn+mTSiFjLFhYEGl5TDGQL2BEODUsW+OJuqcpA6TE959pw4iOs1OyBMQU1FMy4xMDCqqqqqqqqqqqqqFW/+ORuSiEAw5TkF6yg1K84T//M4xL4TEDXAsgjGBFj7qHnbShTe/4qu6snZdYT//s+mKpxToVSv/7MLqlEzFqA5GYUcFZJmwdhWdGx0C86iC0kjUgHKdqCIdtySP515maxEWwKnq0hJSwbDkKgNZoqeMmnIT+KVqmrL3LmV//M4xNAS+JYcAHhMZLZtabWaXxY83h8uvRthx2lW70hk+1tdFGsfeb6M41/F7/JF6wkB3t4FyHCwZDmhlKGhbXMsNGMWMXn5zLP/RmDm6xN8fOrHIHEzfPQ0pSVjsdWqKq2l9gzUxsMXyFEz//M4xNAL8AJ1ngBEAq7b6dkLmHmVtE6UGhXWxCKBWKxWKrAKBQAv+GFU6rIcLDjlnwQZAF/ne4O/Mr64CvgGAHuBsZsvxKZE1E2TZsTf5XQOFw0Ni+tMu/vTNGoOxgg3+s3JwxJ8kFLZS0H///M4xP8q8yoYAVpgAbMTZPjrFxuMmTBmGqGpnDcuE2anP/xGhPjpBuuHTk6LnHeVE0yBmajMuIbf//xc441pm5cNSDiPCpPF83JzeQR///9VbgQCklsIGjOtXzCJ0C6O4Gaj9w659FwB1CDQ//M4xLIlqu7aX5iQAq2dRa6JUEIA8yO9MzJ6bheix001zriOCdjyPqLhcLVDuBBhzC8cMKj47hPgV0juzpmTEkXx6VIHXL+i/0FHTRmbXHaOQ6gp0knMi8bv3SkkUi460dSZie/UmYu/XWtS//M4xHojorrOXc9oAr9aSb7orMUjo9AWNkwdGgeZJdZ21WADrkDu+c1WyoTDVOcxMaefqZq3IDQwUbAgKNPJDuW0EHTsBOVFs89KGkqnbSMggOg+Zuj7dxVf66WGYZUfqqrEtBsDChYc04hS//M4xEohSz6pkMoHHEg1AFNJYfDSIIwGwstC16bkj7Xy3AAgta3udZnn/iFIXM/yT3vCd6ZToJBBKQMZKbMzf6IS+hPX0JxZqpQGAHpagdoMddFSIfqAagJxnRqYpGgxRwJ9SRqXiIIId9ZQ//M4xCMcwtrCXImFHYLaP+2yBIpM1TlLMJhb3//REfe//yUWm7Yb6LMFkyBDJinKdCI7z9iMf/vlJEDOyG6gMJmR//tbWuffq38v6U7yLdjso8Op2ZF7eW0I0aeKUYSMe1hAKx93TYZYUYVw//M4xA8XmXbSXIPRQi3l366yCgWXN2UumopCliWm2Uy2WBdARiAjM9a2Q7iZGXj/5eGFjQSNHfoMJUj/+KHHDv/YkWE5j6ZDqEfBoG/+r43WLeWNR4LA0BPX3JM1kYYAyiLCUkqLZxSv2ehz//M4xA8YC0LCfnoEeAXUB9YsZFyKCfZbn6Yk2tOiwUA3UOh73xSgjAjL52Ryy7o619ZnQtKHMjOWZ9ZStn6Zn1ZaGM6or///vqVMs3rT/q/OlW2dUS/pjGGdgQUYWqo1Fpfb7/uSIETwojzd//M4xA0U6X6+/gvGFNDgX0y0qUPYZ9pNsc2eYAeuTN4IbOWwTNTLokcEZnXqGN8WNMi//hk0Rk0Jhy/ZAbZhyMfQcIJ05M+j+5cMLtT/rpoxRDSdtj2v+21trYFM4YokeCdhfQciVZzBUPY4//M4xBgUUVruXnsEeiAr3TtWBQSQiAYJcKo8L9S/iyVkBg47aJ6/PLGMRjE7r1WRXP/7lZ0cM9tDC60P2bQKNZtvq//7upVqAJLWWuuBgD1V3oEvINHQT2IkOXP5r6rcUeJzmv/9Y22oT2Fj//M4xCUVCXK6Xh5KODXD4IL+9Cih/R0Rw43q4kLgIB38zlY8heJDBN9whFRTWCYIHFmB5////9wPqWaKKvupTdqgTKcjeXc9c/9x+ljjuY9wTRw4uHAG7zvII/QiuAMfOqAAghNzMRQNyNvo//M4xC8SehbAAA4ENKdzo35L67ZG1XPoRlPpw4EeD4fvf7C8PR3p3yWKkSgP90jEJKFUQt9Emg4QAMBuHretKoigxH+DvmZ2x0diAeLIvnLemVHqtik1rWaslTvl7+9tDO3///3Z0REVSsBB//M4xEQUUh7U9GsFDcgNY5dgqokZD/+oeAbVAGUIobQFsJeEYXJ4ImCjOuI2vjVvVqIHAVlI3/9bm8K8DWAGFR///WRPKplUcfLCUFm8UAwVDmpRYGAwlQV/oA5/xYTvbBpT+w2G3NS7q//i//M4xFEUYNrS/gJeJCVhsbMBuJlBgXj4YEzDHjRWEoQzdNa/vKOkhKop846IRC4S/+gnKN/x88j/5836dTI2FvWR6gwEfWFhE/4a+DR7l63NILAjQ0btew2dqbQ9SWoFwVN0ZM+rzSopdrNR//M4xF4TMXbWNgvOVqjPxiqGUgC68hMPsE8QvyXhrAZjZRA/m+9zwdkX65T/3/8/0Y/5/Y/+TACHZTuru1ruux0GtYJmHpL7eIZxoBCjXitiaLdMvHgOP4jTNwcgKgq0F4GX8Z+mC4KVmaHi//M4xHATAx7RlkhE/wsLMJggD4EMlAGOOKDAfgBIOHKOmSG0N+lpM25+idbuXihouqrxZ9J46LP8s9wK3VIQByeo5GlAPmEpFCcyt1tsOQnB/pVPRYllI4qpStiKNkYZfjEL8aK8XhWeq1qq//M4xIMVKJbKXFvGqBovHdIfRHDhMcJ8C9eWIDA0TEhYOkJbVmjbyGthXvufl4X5lysSBN4ZRcZxgnIAgEQXA4nAZrOJ+r+7T1PaUa3bQ2pJIzCEMuXjX7AizcIcrp/BN8azjC+WD5atdxha//M4xI0cEU7SPgPYHH0/JYQCiTT1k7KhTWLo3z9Cbeu2ZkJDcSF4eyUAUlIzOFYle2GYNyzopk1/Nvp+vb/XsjSlRBaC0t4pilCDsXUaSVZez8NeptUbb2FMzTul246ZYAdBZVxhEARA3liT//M4xHsZOfbStnsEnDDNZD0o9vUkz60yA0EaHggOQFlvQcLTpZh3ohZrbuItrP1/5whE5HYloltEtjf6SJsVM1/0Xnh6RQeJRhJPX3dSssE7VQ42+VCkTlwsVAZBEdMui5chMwHMBbboh0LT//M4xHUWkR8GfoPQNhq4pt5aWUIDAZ1RS5TGKxTK12KmQW2/ixUNM/L6o+qepf/+X0Fn/lvFWStIwOuf996plQMsBp7IqNGqCiXxcA7awMHNk051QSJEki0qOTBUSVgFsKu+URNR3ykhZq3I//M4xHkVGeLePgMKHlnqpATzsPUMZFtZ6gnCWSUBclnYb+WBpTRF/8OiUBTpY9DQq/s1PDVnvgJWghRfzmGixBxHApU0LMA3gSrRAVypZN4lbnaEK8ybMQogkg5OnGpImp9FXme2udw70SYd//M4xIMTcSKc1jJG6rwrdU/6KvMO/3p//+v26v/V6gIHJLppyQaIyhg0oWAQp2n0A12VOtp3WtLoMReD7LrMAGYjccw/I42Wi6YsY1BSgfOXXRPHUUrsONAg5kTiSq2SdKpcg5wihE1Gi1V+//M4xJQRwNZUFU9YALezyJmBOHzAuG1Vb6l/dsuIIGlSE0ar+v/SqVycRL6Ly4YkHKrPv/V7er+TZuRQuk+Wi+bmh0nzUvm9X//8nUMIAQqFCq1W9ECJcXJRQFU8fH5E3iY8E2EZ+1hGGE7G//M4xKwi6yZMA5iQAEfTQOQmEaQiy97SbZjxXRVi6q72UJssuSTIAANoR8DS5U9s/DZtU1qdTagTX1oqQhsufj8pCq1SjDP956UyEPqm//Wk2okTa79hs1nMfy8ow+qwp8m5a+Wbv+721BZZ//M4xH8iyrJoDY9IABbWRGCwexRLP+f/yqpGinZq6JLAcQgpAk4ekrqqj7/j6yzO1CUXkZWdt7f+s3oPtvJsWqTIIvhhbvj/5VZqFpLeeFaIiePmpqLYo2htK1lm1MStdurFXXjPuIb9+yh///M4xFIWspJwX8hAAFbKp0SPuX/2LiNQSFMlaMsG0LBZZCJVHZjBFLscYMsar5gzUgzaqv/3+rmpNwKJyQiNrDU8pPYR2S3pQQf22iT6udESgKsWYm61nhmVVUquWhcH4NCZt7YgWUPKbUST//M4xFYRsQpIDHpGCHO5C1S1FrFbXWHQ+KxXLiiRiYjtLUZ5CHUaP6Iq7I5dKjLmL9detQs7fxTfakNuVRDpgIFwfAMhjsGUKJj8QjRCHOC8KDRJE0xJQJwGZJH9WTFPDjLA63SYc26qp44B//M4xG4PqG44BGJMBOps3fTXywqSR1ejURtUdFkWAGApEdDKgpjWH9UBihRMAh4KhUFQ0DQUBoet0lns8sDFZYOSwFdEv/w4WfyulF3rBZ8ryz6eSlajywV4NdgaPBWqQW/qZqb/WKN/Fhdj//M4xI4PsGY0LDJGAKLCv6xUWb8WFhUMmQkLitYqLGjQVFBb6hYXEZkBCwriooSNAUVFm/FhYVpMQU1FMy4xMDCqqqqqqqqqqqqqqqqqqqqqqqqqqqqqqqqqqqqqqqqqqqqqqqqqqqqqqqqq//M4xK4QOF4QBEpGAKqqqqqqqqqqqqqqqqqqqqqqqqqqqqqqqqqqqqqqqkxBTUUzLjEwMKqqqqqqqqqqqqqqqqqqqqqqqqqqqqqqqqqqqqqqqqqqqqqqqqqqqqqqqqqqqqqqqqqqqqqqqqqq//M4xMwOIAFoFAhGuKqqqqqqqqqqqqqqqqqqqqqqqqqqqqqqqqqqqqqqqqqqqqqqqqqqqqqqqqqqqqqqqqqqqqqqqqqqqqqqqqqqqqqqqqqqqqqqqqqqqqqqqqqqqqqqqqqqqqqqqqqqqqqq//M4xKAAAANIAAAAAKqqqqqqqqqqqqqqqqqqqqqqqqqqqqqqqqqqqqqqqqqqqqqqqqqqqqqqqqqqqqqqqqqqqqqqqqqqqqqqqqqqqqqqqqqqqqqqqqqqqqqqqqqqqqqqqqqqqqqqqqqqqqqq\" type=\"audio/mpeg\"/>\n",
              "                        Your browser does not support the audio element.\n",
              "                    </audio>\n",
              "                  "
            ]
          },
          "metadata": {},
          "execution_count": 18
        }
      ],
      "source": [
        "from pydub import AudioSegment\n",
        "\n",
        "audio = AudioSegment.from_file(\"sample.wav\")\n",
        "audio"
      ]
    },
    {
      "cell_type": "markdown",
      "metadata": {
        "id": "KnFA2Twx9t3m"
      },
      "source": [
        "You can use the following function to play a segment of your audio from a given offset"
      ]
    },
    {
      "cell_type": "code",
      "execution_count": 19,
      "metadata": {
        "id": "g6DZOCwt9t3n"
      },
      "outputs": [],
      "source": [
        "def play_segment(offsets, index: int):\n",
        "    start = offsets[index][\"start_time\"]\n",
        "    end = offsets[index][\"end_time\"]\n",
        "    print(offsets[index][\"text\"])\n",
        "    return audio[start * 1000 : end * 1000]"
      ]
    },
    {
      "cell_type": "markdown",
      "metadata": {
        "id": "wuD_tVzm9t4G"
      },
      "source": [
        "Here are some examples of the phoneme segments"
      ]
    },
    {
      "cell_type": "code",
      "execution_count": 20,
      "metadata": {
        "colab": {
          "base_uri": "https://localhost:8080/",
          "height": 93
        },
        "id": "UBxw8pk_9t4K",
        "outputId": "bc17f53a-80d0-424c-927e-be390c6cd1c5"
      },
      "outputs": [
        {
          "output_type": "stream",
          "name": "stdout",
          "text": [
            "ɪ\n"
          ]
        },
        {
          "output_type": "execute_result",
          "data": {
            "text/plain": [
              "<pydub.audio_segment.AudioSegment at 0x7f1d4155feb0>"
            ],
            "text/html": [
              "\n",
              "                    <audio controls>\n",
              "                        <source src=\"data:audio/mpeg;base64,SUQzBAAAAAAAI1RTU0UAAAAPAAADTGF2ZjU4LjI5LjEwMAAAAAAAAAAAAAAA//NYwAAAAAAAAAAAAEluZm8AAAAPAAAAAwAAAfgAkpKSkpKSkpKSkpKSkpKSkpKSkpKSkpKSkpKSkpKSkpKSycnJycnJycnJycnJycnJycnJycnJycnJycnJycnJycnJ////////////////////////////////////////////AAAAAExhdmM1OC41NAAAAAAAAAAAAAAAACQDQAAAAAAAAAH4RCL6mgAAAAAAAAAAAAAA//M4xAAAAANIAAAAAExBTUUzLjEwMFVVVVVVVVVVVVVVVVVVVVVVVVVVVUxBTUUzLjEwMFVVVVVVVVVVVVVVVVVVVVVVVVVVVVVVVVVVVVVVVVVVVVVVVVVVVVVVVVVVVVVVVVVVVVVVVVVV//M4xF8AAANIAAAAAFVVVVVVVVVVVVVVVVVVVVVVVVVVVVVVVVVVVVVVVVVVVVVVVVVVVVVVVVVVVVVVVVVVVVVVVVVVVVVVVVVVVVVVVVVVVVVVVVVVVVVVVVVVVVVVVVVVVVVVVVVVVVVV//M4xKAAAANIAAAAAFVVVVVVVVVVVVVVVVVVVVVVVVVVVVVVVVVVVVVVVVVVVVVVVVVVVVVVVVVVVVVVVVVVVVVVVVVVVVVVVVVVVVVVVVVVVVVVVVVVVVVVVVVVVVVVVVVVVVVVVVVVVVVV\" type=\"audio/mpeg\"/>\n",
              "                        Your browser does not support the audio element.\n",
              "                    </audio>\n",
              "                  "
            ]
          },
          "metadata": {},
          "execution_count": 20
        }
      ],
      "source": [
        "play_segment(phoneme_offsets[0], 0)"
      ]
    },
    {
      "cell_type": "code",
      "execution_count": 21,
      "metadata": {
        "colab": {
          "base_uri": "https://localhost:8080/",
          "height": 93
        },
        "id": "ywmf-C5d9t4M",
        "outputId": "530aaf7c-7686-4fc4-9490-c4953025317b"
      },
      "outputs": [
        {
          "output_type": "stream",
          "name": "stdout",
          "text": [
            "t\n"
          ]
        },
        {
          "output_type": "execute_result",
          "data": {
            "text/plain": [
              "<pydub.audio_segment.AudioSegment at 0x7f1e4fa7ba30>"
            ],
            "text/html": [
              "\n",
              "                    <audio controls>\n",
              "                        <source src=\"data:audio/mpeg;base64,SUQzBAAAAAAAI1RTU0UAAAAPAAADTGF2ZjU4LjI5LjEwMAAAAAAAAAAAAAAA//NYwAAAAAAAAAAAAEluZm8AAAAPAAAABAAAAmQAeHh4eHh4eHh4eHh4eHh4eHh4eHh4eHh4paWlpaWlpaWlpaWlpaWlpaWlpaWlpaWlpdLS0tLS0tLS0tLS0tLS0tLS0tLS0tLS0tL/////////////////////////////////AAAAAExhdmM1OC41NAAAAAAAAAAAAAAAACQEQAAAAAAAAAJkz4jf7QAAAAAAAAAAAAAA//M4xAATsH6oBUYQABI/YwgAAAAAgLJ20Q0EAGAwsmTJkyZMAAAAQCAIAmD4Pg+D4IAgCAIAmD4Pg+D4IAhgMHz/+Jz8YCAIHP/8EMoAwfB993T/lwfB9/0icH0AAaqqqoEVBZTX/ri50ziU//M4xBAYCJbFk5h4AG7xUDQy56MGxXIgxsr08/AIfdeiY3nWNePxQNKfWJz4Z2VCQmp5dgJ4hasFAuA2DYrYLjgcU4e8I/CTDBmfGXlZ3W/3b9YxJ0Ui4Pf+Lf8MKpAAHAUHA4IAAA5ILp0s//M4xA4XohayUZJoAAIsL/LXg4hOrJYlo7Bla+EWGDG0LatlfHgRxLiXI1er44S4WkkXyj/+YsskjZFH//OF5JZqio2S///OmqKCSS0Vqcy//LgqCRUAmQ6Cv//BKkxBTUUzLjEwMKqqqqqq//M4xA4AAANIAcAAAKqqqqqqqqqqqqqqqqqqqqqqqqqqqqqqqqqqqqqqqqqqqqqqqqqqqqqqqqqqqqqqqqqqqqqqqqqqqqqqqqqqqqqqqqqqqqqqqqqqqqqqqqqqqqqqqqqqqqqqqqqqqqqq\" type=\"audio/mpeg\"/>\n",
              "                        Your browser does not support the audio element.\n",
              "                    </audio>\n",
              "                  "
            ]
          },
          "metadata": {},
          "execution_count": 21
        }
      ],
      "source": [
        "play_segment(phoneme_offsets[0], 1)"
      ]
    },
    {
      "cell_type": "code",
      "execution_count": 22,
      "metadata": {
        "colab": {
          "base_uri": "https://localhost:8080/",
          "height": 93
        },
        "id": "MNaI5iSP9t4M",
        "outputId": "32d92c62-a4cc-4b37-af5d-fcd8f5ed0db3"
      },
      "outputs": [
        {
          "output_type": "stream",
          "name": "stdout",
          "text": [
            "ɪ\n"
          ]
        },
        {
          "output_type": "execute_result",
          "data": {
            "text/plain": [
              "<pydub.audio_segment.AudioSegment at 0x7f1d48101400>"
            ],
            "text/html": [
              "\n",
              "                    <audio controls>\n",
              "                        <source src=\"data:audio/mpeg;base64,SUQzBAAAAAAAI1RTU0UAAAAPAAADTGF2ZjU4LjI5LjEwMAAAAAAAAAAAAAAA//NYwAAAAAAAAAAAAEluZm8AAAAPAAAAAwAAAfgAkpKSkpKSkpKSkpKSkpKSkpKSkpKSkpKSkpKSkpKSkpKSycnJycnJycnJycnJycnJycnJycnJycnJycnJycnJycnJ////////////////////////////////////////////AAAAAExhdmM1OC41NAAAAAAAAAAAAAAAACQDQAAAAAAAAAH4XMVdPgAAAAAAAAAAAAAA//M4xAAU4Ha0pUwQAMBYmcpSlFgkATBuT38pSk07W169evXgAACAIAgCYPg+D4PggCAIAgZrB8Pu5cP/5cHwfD9QIAgn+oEwfB8/BAMSgDB8Hz8Z0/EAIBjB8Hz/lwfB9a0NQ+9FWyloI8JT//M4xAsXKhq4AZiAABkbEq0PQM5DuXaAEOO01EelZjJ6icNlpGLJeyKkkO7fomlRhr0vz6pElF4V1JZSZaJS/myUrrUTdjZkDbMjf/zAtt6+xSPqer/yiyh4azSr/1IbSCug5BqB0RYlxKEo//M4xA0PQG3sN8wYAJyYEgPLwRABHUegJFkrCUqZMT3mg12+qV/LPK/qPfkSx4r1HhKs7/9YaUHf/U//6ExBTUUzLjEwMKqqqqqqqqqqqqqqqqqqqqqqqqqqqqqqqqqqqqqqqqqqqqqqqqqq\" type=\"audio/mpeg\"/>\n",
              "                        Your browser does not support the audio element.\n",
              "                    </audio>\n",
              "                  "
            ]
          },
          "metadata": {},
          "execution_count": 22
        }
      ],
      "source": [
        "play_segment(phoneme_offsets[0], 2)"
      ]
    },
    {
      "cell_type": "code",
      "execution_count": 23,
      "metadata": {
        "colab": {
          "base_uri": "https://localhost:8080/",
          "height": 93
        },
        "id": "rdX9GBU-9t4N",
        "outputId": "167912f4-df71-409f-f19e-e33383fc437a"
      },
      "outputs": [
        {
          "output_type": "stream",
          "name": "stdout",
          "text": [
            "z\n"
          ]
        },
        {
          "output_type": "execute_result",
          "data": {
            "text/plain": [
              "<pydub.audio_segment.AudioSegment at 0x7f1d4155ffd0>"
            ],
            "text/html": [
              "\n",
              "                    <audio controls>\n",
              "                        <source src=\"data:audio/mpeg;base64,SUQzBAAAAAAAI1RTU0UAAAAPAAADTGF2ZjU4LjI5LjEwMAAAAAAAAAAAAAAA//NYwAAAAAAAAAAAAEluZm8AAAAPAAAAAwAAAfgAkpKSkpKSkpKSkpKSkpKSkpKSkpKSkpKSkpKSkpKSkpKSycnJycnJycnJycnJycnJycnJycnJycnJycnJycnJycnJ////////////////////////////////////////////AAAAAExhdmM1OC41NAAAAAAAAAAAAAAAACQDQAAAAAAAAAH4PFQMNAAAAAAAAAAAAAAA//M4xAAPCC6NE0MYAIQIna2Hd/iIAAYGH8HHLB+6UEAJ8HwQdgmHy4Ph+IHfg+PB8HzQgd/wfD/plw//y4Y//KO4IAgCAIAmD6q2W3W3DYbDYSiUSBsKBuTByE7tsm4RSEH9Xl7Wm2BjgChp//M4xCIdYp7eX49AAsFoRCn7AcPsoBFL/xMbRQjCpQdXf/nDkKRKdKxv/94yDW5gsGwsWN//xXRt6M0fafQ3//9u1H9c1Q247/duW////ImbeEmsacAjQKVNKaj/B//hOgCkAsAYDRMmKRSz//M4xAsSy0HIUckQAEqhQ4sia2MpS8Y55NzPl+bLVqGfv2///9cxnUtSt///+Z6lab/+j5f/zGyllKyGNUxnlKyGL/9SlZDFaYxnKFNVTEFNRTMuMTAwVVVVVVVVVVVVVVVVVVVVVVVVVVVV\" type=\"audio/mpeg\"/>\n",
              "                        Your browser does not support the audio element.\n",
              "                    </audio>\n",
              "                  "
            ]
          },
          "metadata": {},
          "execution_count": 23
        }
      ],
      "source": [
        "play_segment(phoneme_offsets[0], 3)"
      ]
    },
    {
      "cell_type": "code",
      "execution_count": 24,
      "metadata": {
        "colab": {
          "base_uri": "https://localhost:8080/",
          "height": 93
        },
        "id": "Ik6drChz9t4N",
        "outputId": "602904ce-2a69-4374-d140-5752c964cbfb"
      },
      "outputs": [
        {
          "output_type": "stream",
          "name": "stdout",
          "text": [
            "noʊt\n"
          ]
        },
        {
          "output_type": "execute_result",
          "data": {
            "text/plain": [
              "<pydub.audio_segment.AudioSegment at 0x7f1d4155f9d0>"
            ],
            "text/html": [
              "\n",
              "                    <audio controls>\n",
              "                        <source src=\"data:audio/mpeg;base64,SUQzBAAAAAAAI1RTU0UAAAAPAAADTGF2ZjU4LjI5LjEwMAAAAAAAAAAAAAAA//NYwAAAAAAAAAAAAEluZm8AAAAPAAAABgAAAzwAWVlZWVlZWVlZWVlZWVlZWXp6enp6enp6enp6enp6enp6m5ubm5ubm5ubm5ubm5ubm729vb29vb29vb29vb29vb293t7e3t7e3t7e3t7e3t7e3t7/////////////////////AAAAAExhdmM1OC41NAAAAAAAAAAAAAAAACQDwAAAAAAAAAM8gQXETgAAAAAAAAAAAAAA//M4xAASWFK0DUkYAHh4jRoyMVitHtIyMEwBgDBMNk6NAwCAIAgCYPg+D4PggCAIAgCYPg+D4fBBwIAgCYPh/GAgCAY/6f9P////wfD7uXB8HwfjAQOKSoAMictdqrDotFgcQAprX6xmnSFk//M4xBUaSWbWX5hYALcQ4UaFCw9Wiu1vWBFLrIEcvQDRTIWocvUWYAmMfe32XVQ85x2/5vl76ZOmvBn/XkhjJbd2ocgbiOXNOBo4ZL9dmgPnygnWFwcf9Y9vh5TLlCRo5dX//+ta5Vp9Ac1r//M4xAoWqh7EAc9QAfzj2tZdAsjRhTGK+ji8CiBwgFj2U4uF6DWPxbfSwzFAU4iBYJJpqHD4mITLTTTdTjzD+pvNZ//r/oacpzdFNY4eoSka7KJUaAfQzf2RDs+P4pZFYGkVJEpRn/Os/dbt//M4xA4YQWLqX09oAkPo0Cxv0LfZtP6fDEl4haYGn3HcFqDCF/L6f3MR6lwe7/mJqyKVNfbUkmikg19aKJqAgYBCoGXfOgUH37IDfCQNElvfWdNgOIgadiikvfhCjbSRAgQoooggAUh7Cg1k//M4xAwYMna9VZKYAG4HbDgFai5cg5AwaRKRFjbiGmjBj5SJ5Ihvh0RUeKVFykRSLwy3w8xcNCmPb1mKVvzRA6ybnep6/5pTpPYpI///4+yobpqLhgirrMakv//GddoISC5MQU1FMy4xMDCq//M4xAoAAANIAcAAAKqqqqqqqqqqqqqqqqqqqqqqqqqqqqqqqqqqqqqqqqqqqqqqqqqqqqqqqqqqqqqqqqqqqqqqqqqqqqqqqqqqqqqqqqqqqqqqqqqqqqqqqqqqqqqqqqqqqqqqqqqqqqqq\" type=\"audio/mpeg\"/>\n",
              "                        Your browser does not support the audio element.\n",
              "                    </audio>\n",
              "                  "
            ]
          },
          "metadata": {},
          "execution_count": 24
        }
      ],
      "source": [
        "play_segment(phoneme_offsets[0], 4)"
      ]
    },
    {
      "cell_type": "code",
      "execution_count": 25,
      "metadata": {
        "colab": {
          "base_uri": "https://localhost:8080/",
          "height": 93
        },
        "id": "jB9mhu-r9t4O",
        "outputId": "cf06abb6-152d-4c4a-a48a-4646b7216438"
      },
      "outputs": [
        {
          "output_type": "stream",
          "name": "stdout",
          "text": [
            "ʌ\n"
          ]
        },
        {
          "output_type": "execute_result",
          "data": {
            "text/plain": [
              "<pydub.audio_segment.AudioSegment at 0x7f1d4155f970>"
            ],
            "text/html": [
              "\n",
              "                    <audio controls>\n",
              "                        <source src=\"data:audio/mpeg;base64,SUQzBAAAAAAAI1RTU0UAAAAPAAADTGF2ZjU4LjI5LjEwMAAAAAAAAAAAAAAA//NYwAAAAAAAAAAAAEluZm8AAAAPAAAAAwAAAfgAkpKSkpKSkpKSkpKSkpKSkpKSkpKSkpKSkpKSkpKSkpKSycnJycnJycnJycnJycnJycnJycnJycnJycnJycnJycnJ////////////////////////////////////////////AAAAAExhdmM1OC41NAAAAAAAAAAAAAAAACQDQAAAAAAAAAH4y4FOLwAAAAAAAAAAAAAA//M4xAAS0Q68pUEQAAysHwAAoAYxzGAHAAAAMDAwMDAwMDOQhPzvzn/nOcWAAAggIAgCYPg+D4PggCDpd//0ggCAIAh/lAGD4Pg+HwQBAEJcHwfB9///B9WyfJMEAHyzzzBIUmjd4WEUpJMY//M4xBMZOh7VlYtYAOggyb8j+8ZpKmXpFQ0DqD2aAnFBNiYg6mbPJy4eUTAf/+SgNU+bIpGIGYttf8GXfEuOu5r//5qnbds8+7ayP//zyNOr5+96mz/oLALVcpzv/xyquQQVJJaAVDUGlA1B//M4xA0MgAYln8AYAlO2xEWeJXHkrDSgVclZ0Swa+z8l//pLB3gr/+p5X5b4ld+5Z2pMQU1FMy4xMDCqqqqqqqqqqqqqqqqqqqqqqqqqqqqqqqqqqqqqqqqqqqqqqqqqqqqqqqqqqqqqqqqq\" type=\"audio/mpeg\"/>\n",
              "                        Your browser does not support the audio element.\n",
              "                    </audio>\n",
              "                  "
            ]
          },
          "metadata": {},
          "execution_count": 25
        }
      ],
      "source": [
        "play_segment(phoneme_offsets[0], 5)"
      ]
    },
    {
      "cell_type": "code",
      "execution_count": 26,
      "metadata": {
        "colab": {
          "base_uri": "https://localhost:8080/",
          "height": 93
        },
        "id": "1OFzxdrp9t4O",
        "outputId": "2c26456a-3a76-4c87-ccbe-94b93a640119"
      },
      "outputs": [
        {
          "output_type": "stream",
          "name": "stdout",
          "text": [
            "p\n"
          ]
        },
        {
          "output_type": "execute_result",
          "data": {
            "text/plain": [
              "<pydub.audio_segment.AudioSegment at 0x7f1d41520ac0>"
            ],
            "text/html": [
              "\n",
              "                    <audio controls>\n",
              "                        <source src=\"data:audio/mpeg;base64,SUQzBAAAAAAAI1RTU0UAAAAPAAADTGF2ZjU4LjI5LjEwMAAAAAAAAAAAAAAA//NYwAAAAAAAAAAAAEluZm8AAAAPAAAAAwAAAfgAkpKSkpKSkpKSkpKSkpKSkpKSkpKSkpKSkpKSkpKSkpKSycnJycnJycnJycnJycnJycnJycnJycnJycnJycnJycnJ////////////////////////////////////////////AAAAAExhdmM1OC41NAAAAAAAAAAAAAAAACQDQAAAAAAAAAH4oFDJQgAAAAAAAAAAAAAA//M4xAARYHI8ABPSAAggO3iviZmnEYBBIIwNk6N6ZOgQYkFAwgFAoeGBA7AgIAgCYPyZA5BAoCYPgc+D4IAgGBBLn4fcCHWH8MZxP//++p3/+TUGmnA0UzwvhSHQfRKlQInp68erirRtYGHI//M4xBkOSKJUFmGGqNc8BO32deHByKfFXvPfJf1+tn9an872f/yNeK7P7j3KqgGkUscoDVGhEThJZgWFhYXdAoVEh+aFKun/3s/vZ/Aop/s/rFP/1+zireritUxBTUUzLjEwMFVVVVVVVVVV//M4xD4LGC4YXhhMAFVVVVVVVVVVVVVVVVVVVVVVVVVVVVVVVVVVVVVVVVVVVVVVVVVVVVVVVVVVVVVVVVVVVVVVVVVVVVVVVVVVVVVVVVVVVVVVVVVVVVVVVVVVVVVVVVVVVVVVVVVVVVVV\" type=\"audio/mpeg\"/>\n",
              "                        Your browser does not support the audio element.\n",
              "                    </audio>\n",
              "                  "
            ]
          },
          "metadata": {},
          "execution_count": 26
        }
      ],
      "source": [
        "play_segment(phoneme_offsets[0], 6)"
      ]
    },
    {
      "cell_type": "code",
      "execution_count": null,
      "metadata": {
        "id": "nvYwsxR-9t4Q"
      },
      "outputs": [],
      "source": []
    }
  ],
  "metadata": {
    "kernelspec": {
      "display_name": "Python 3 (ipykernel)",
      "language": "python",
      "name": "python3"
    },
    "language_info": {
      "codemirror_mode": {
        "name": "ipython",
        "version": 3
      },
      "file_extension": ".py",
      "mimetype": "text/x-python",
      "name": "python",
      "nbconvert_exporter": "python",
      "pygments_lexer": "ipython3",
      "version": "3.10.9"
    },
    "vscode": {
      "interpreter": {
        "hash": "7288f315087fdb0a15835a979a50c8db3e0e21492381bafafe9d84f995bbb7dd"
      }
    },
    "colab": {
      "provenance": []
    },
    "widgets": {
      "application/vnd.jupyter.widget-state+json": {
        "3eb2431749154c59a4e07fc1443031b0": {
          "model_module": "@jupyter-widgets/controls",
          "model_name": "HBoxModel",
          "model_module_version": "1.5.0",
          "state": {
            "_dom_classes": [],
            "_model_module": "@jupyter-widgets/controls",
            "_model_module_version": "1.5.0",
            "_model_name": "HBoxModel",
            "_view_count": null,
            "_view_module": "@jupyter-widgets/controls",
            "_view_module_version": "1.5.0",
            "_view_name": "HBoxView",
            "box_style": "",
            "children": [
              "IPY_MODEL_758a147e1e8342deb10013d17e8e4cb1",
              "IPY_MODEL_9b2ed2863b234202a36ef28b7db7c20c",
              "IPY_MODEL_781550fbd2eb4e3ba5b1ac39f671bc18"
            ],
            "layout": "IPY_MODEL_952d09a581794354a065d7a1353c1135"
          }
        },
        "758a147e1e8342deb10013d17e8e4cb1": {
          "model_module": "@jupyter-widgets/controls",
          "model_name": "HTMLModel",
          "model_module_version": "1.5.0",
          "state": {
            "_dom_classes": [],
            "_model_module": "@jupyter-widgets/controls",
            "_model_module_version": "1.5.0",
            "_model_name": "HTMLModel",
            "_view_count": null,
            "_view_module": "@jupyter-widgets/controls",
            "_view_module_version": "1.5.0",
            "_view_name": "HTMLView",
            "description": "",
            "description_tooltip": null,
            "layout": "IPY_MODEL_35c3505183ab4724b44d06c6cbe8756b",
            "placeholder": "​",
            "style": "IPY_MODEL_79fa8eb0a64f4808ad97cfb35a5d1616",
            "value": "Downloading (…)lve/main/config.json: 100%"
          }
        },
        "9b2ed2863b234202a36ef28b7db7c20c": {
          "model_module": "@jupyter-widgets/controls",
          "model_name": "FloatProgressModel",
          "model_module_version": "1.5.0",
          "state": {
            "_dom_classes": [],
            "_model_module": "@jupyter-widgets/controls",
            "_model_module_version": "1.5.0",
            "_model_name": "FloatProgressModel",
            "_view_count": null,
            "_view_module": "@jupyter-widgets/controls",
            "_view_module_version": "1.5.0",
            "_view_name": "ProgressView",
            "bar_style": "success",
            "description": "",
            "description_tooltip": null,
            "layout": "IPY_MODEL_c1a2ab42144e40469c70eb6c60e279cb",
            "max": 2345,
            "min": 0,
            "orientation": "horizontal",
            "style": "IPY_MODEL_f83d0c30e9cb4f01bc2260991024c87e",
            "value": 2345
          }
        },
        "781550fbd2eb4e3ba5b1ac39f671bc18": {
          "model_module": "@jupyter-widgets/controls",
          "model_name": "HTMLModel",
          "model_module_version": "1.5.0",
          "state": {
            "_dom_classes": [],
            "_model_module": "@jupyter-widgets/controls",
            "_model_module_version": "1.5.0",
            "_model_name": "HTMLModel",
            "_view_count": null,
            "_view_module": "@jupyter-widgets/controls",
            "_view_module_version": "1.5.0",
            "_view_name": "HTMLView",
            "description": "",
            "description_tooltip": null,
            "layout": "IPY_MODEL_0ad796027b6546dcb815f497aa0d2e5c",
            "placeholder": "​",
            "style": "IPY_MODEL_ee56ef1bbe364066bc1615a3e429246b",
            "value": " 2.35k/2.35k [00:00&lt;00:00, 22.2kB/s]"
          }
        },
        "952d09a581794354a065d7a1353c1135": {
          "model_module": "@jupyter-widgets/base",
          "model_name": "LayoutModel",
          "model_module_version": "1.2.0",
          "state": {
            "_model_module": "@jupyter-widgets/base",
            "_model_module_version": "1.2.0",
            "_model_name": "LayoutModel",
            "_view_count": null,
            "_view_module": "@jupyter-widgets/base",
            "_view_module_version": "1.2.0",
            "_view_name": "LayoutView",
            "align_content": null,
            "align_items": null,
            "align_self": null,
            "border": null,
            "bottom": null,
            "display": null,
            "flex": null,
            "flex_flow": null,
            "grid_area": null,
            "grid_auto_columns": null,
            "grid_auto_flow": null,
            "grid_auto_rows": null,
            "grid_column": null,
            "grid_gap": null,
            "grid_row": null,
            "grid_template_areas": null,
            "grid_template_columns": null,
            "grid_template_rows": null,
            "height": null,
            "justify_content": null,
            "justify_items": null,
            "left": null,
            "margin": null,
            "max_height": null,
            "max_width": null,
            "min_height": null,
            "min_width": null,
            "object_fit": null,
            "object_position": null,
            "order": null,
            "overflow": null,
            "overflow_x": null,
            "overflow_y": null,
            "padding": null,
            "right": null,
            "top": null,
            "visibility": null,
            "width": null
          }
        },
        "35c3505183ab4724b44d06c6cbe8756b": {
          "model_module": "@jupyter-widgets/base",
          "model_name": "LayoutModel",
          "model_module_version": "1.2.0",
          "state": {
            "_model_module": "@jupyter-widgets/base",
            "_model_module_version": "1.2.0",
            "_model_name": "LayoutModel",
            "_view_count": null,
            "_view_module": "@jupyter-widgets/base",
            "_view_module_version": "1.2.0",
            "_view_name": "LayoutView",
            "align_content": null,
            "align_items": null,
            "align_self": null,
            "border": null,
            "bottom": null,
            "display": null,
            "flex": null,
            "flex_flow": null,
            "grid_area": null,
            "grid_auto_columns": null,
            "grid_auto_flow": null,
            "grid_auto_rows": null,
            "grid_column": null,
            "grid_gap": null,
            "grid_row": null,
            "grid_template_areas": null,
            "grid_template_columns": null,
            "grid_template_rows": null,
            "height": null,
            "justify_content": null,
            "justify_items": null,
            "left": null,
            "margin": null,
            "max_height": null,
            "max_width": null,
            "min_height": null,
            "min_width": null,
            "object_fit": null,
            "object_position": null,
            "order": null,
            "overflow": null,
            "overflow_x": null,
            "overflow_y": null,
            "padding": null,
            "right": null,
            "top": null,
            "visibility": null,
            "width": null
          }
        },
        "79fa8eb0a64f4808ad97cfb35a5d1616": {
          "model_module": "@jupyter-widgets/controls",
          "model_name": "DescriptionStyleModel",
          "model_module_version": "1.5.0",
          "state": {
            "_model_module": "@jupyter-widgets/controls",
            "_model_module_version": "1.5.0",
            "_model_name": "DescriptionStyleModel",
            "_view_count": null,
            "_view_module": "@jupyter-widgets/base",
            "_view_module_version": "1.2.0",
            "_view_name": "StyleView",
            "description_width": ""
          }
        },
        "c1a2ab42144e40469c70eb6c60e279cb": {
          "model_module": "@jupyter-widgets/base",
          "model_name": "LayoutModel",
          "model_module_version": "1.2.0",
          "state": {
            "_model_module": "@jupyter-widgets/base",
            "_model_module_version": "1.2.0",
            "_model_name": "LayoutModel",
            "_view_count": null,
            "_view_module": "@jupyter-widgets/base",
            "_view_module_version": "1.2.0",
            "_view_name": "LayoutView",
            "align_content": null,
            "align_items": null,
            "align_self": null,
            "border": null,
            "bottom": null,
            "display": null,
            "flex": null,
            "flex_flow": null,
            "grid_area": null,
            "grid_auto_columns": null,
            "grid_auto_flow": null,
            "grid_auto_rows": null,
            "grid_column": null,
            "grid_gap": null,
            "grid_row": null,
            "grid_template_areas": null,
            "grid_template_columns": null,
            "grid_template_rows": null,
            "height": null,
            "justify_content": null,
            "justify_items": null,
            "left": null,
            "margin": null,
            "max_height": null,
            "max_width": null,
            "min_height": null,
            "min_width": null,
            "object_fit": null,
            "object_position": null,
            "order": null,
            "overflow": null,
            "overflow_x": null,
            "overflow_y": null,
            "padding": null,
            "right": null,
            "top": null,
            "visibility": null,
            "width": null
          }
        },
        "f83d0c30e9cb4f01bc2260991024c87e": {
          "model_module": "@jupyter-widgets/controls",
          "model_name": "ProgressStyleModel",
          "model_module_version": "1.5.0",
          "state": {
            "_model_module": "@jupyter-widgets/controls",
            "_model_module_version": "1.5.0",
            "_model_name": "ProgressStyleModel",
            "_view_count": null,
            "_view_module": "@jupyter-widgets/base",
            "_view_module_version": "1.2.0",
            "_view_name": "StyleView",
            "bar_color": null,
            "description_width": ""
          }
        },
        "0ad796027b6546dcb815f497aa0d2e5c": {
          "model_module": "@jupyter-widgets/base",
          "model_name": "LayoutModel",
          "model_module_version": "1.2.0",
          "state": {
            "_model_module": "@jupyter-widgets/base",
            "_model_module_version": "1.2.0",
            "_model_name": "LayoutModel",
            "_view_count": null,
            "_view_module": "@jupyter-widgets/base",
            "_view_module_version": "1.2.0",
            "_view_name": "LayoutView",
            "align_content": null,
            "align_items": null,
            "align_self": null,
            "border": null,
            "bottom": null,
            "display": null,
            "flex": null,
            "flex_flow": null,
            "grid_area": null,
            "grid_auto_columns": null,
            "grid_auto_flow": null,
            "grid_auto_rows": null,
            "grid_column": null,
            "grid_gap": null,
            "grid_row": null,
            "grid_template_areas": null,
            "grid_template_columns": null,
            "grid_template_rows": null,
            "height": null,
            "justify_content": null,
            "justify_items": null,
            "left": null,
            "margin": null,
            "max_height": null,
            "max_width": null,
            "min_height": null,
            "min_width": null,
            "object_fit": null,
            "object_position": null,
            "order": null,
            "overflow": null,
            "overflow_x": null,
            "overflow_y": null,
            "padding": null,
            "right": null,
            "top": null,
            "visibility": null,
            "width": null
          }
        },
        "ee56ef1bbe364066bc1615a3e429246b": {
          "model_module": "@jupyter-widgets/controls",
          "model_name": "DescriptionStyleModel",
          "model_module_version": "1.5.0",
          "state": {
            "_model_module": "@jupyter-widgets/controls",
            "_model_module_version": "1.5.0",
            "_model_name": "DescriptionStyleModel",
            "_view_count": null,
            "_view_module": "@jupyter-widgets/base",
            "_view_module_version": "1.2.0",
            "_view_name": "StyleView",
            "description_width": ""
          }
        },
        "9c276b089fb944a6b6762146907624a9": {
          "model_module": "@jupyter-widgets/controls",
          "model_name": "HBoxModel",
          "model_module_version": "1.5.0",
          "state": {
            "_dom_classes": [],
            "_model_module": "@jupyter-widgets/controls",
            "_model_module_version": "1.5.0",
            "_model_name": "HBoxModel",
            "_view_count": null,
            "_view_module": "@jupyter-widgets/controls",
            "_view_module_version": "1.5.0",
            "_view_name": "HBoxView",
            "box_style": "",
            "children": [
              "IPY_MODEL_c25c2dd429e44e8db2d47cfdcbded791",
              "IPY_MODEL_baf70d340eed448eac885cbe8d8bcf1c",
              "IPY_MODEL_60ba680fb6f741f58129fa302511a6d6"
            ],
            "layout": "IPY_MODEL_9f980793644a4032961667a2597b06f0"
          }
        },
        "c25c2dd429e44e8db2d47cfdcbded791": {
          "model_module": "@jupyter-widgets/controls",
          "model_name": "HTMLModel",
          "model_module_version": "1.5.0",
          "state": {
            "_dom_classes": [],
            "_model_module": "@jupyter-widgets/controls",
            "_model_module_version": "1.5.0",
            "_model_name": "HTMLModel",
            "_view_count": null,
            "_view_module": "@jupyter-widgets/controls",
            "_view_module_version": "1.5.0",
            "_view_name": "HTMLView",
            "description": "",
            "description_tooltip": null,
            "layout": "IPY_MODEL_c515afcd52514d29b2a26859070e2791",
            "placeholder": "​",
            "style": "IPY_MODEL_dc205895b1964cec9523384e16cd7da8",
            "value": "Downloading pytorch_model.bin: 100%"
          }
        },
        "baf70d340eed448eac885cbe8d8bcf1c": {
          "model_module": "@jupyter-widgets/controls",
          "model_name": "FloatProgressModel",
          "model_module_version": "1.5.0",
          "state": {
            "_dom_classes": [],
            "_model_module": "@jupyter-widgets/controls",
            "_model_module_version": "1.5.0",
            "_model_name": "FloatProgressModel",
            "_view_count": null,
            "_view_module": "@jupyter-widgets/controls",
            "_view_module_version": "1.5.0",
            "_view_name": "ProgressView",
            "bar_style": "success",
            "description": "",
            "description_tooltip": null,
            "layout": "IPY_MODEL_770c5b3851ac448fb1592f82ce7a9876",
            "max": 377696791,
            "min": 0,
            "orientation": "horizontal",
            "style": "IPY_MODEL_1a7d7bce25924eebb79a48678be8d3a4",
            "value": 377696791
          }
        },
        "60ba680fb6f741f58129fa302511a6d6": {
          "model_module": "@jupyter-widgets/controls",
          "model_name": "HTMLModel",
          "model_module_version": "1.5.0",
          "state": {
            "_dom_classes": [],
            "_model_module": "@jupyter-widgets/controls",
            "_model_module_version": "1.5.0",
            "_model_name": "HTMLModel",
            "_view_count": null,
            "_view_module": "@jupyter-widgets/controls",
            "_view_module_version": "1.5.0",
            "_view_name": "HTMLView",
            "description": "",
            "description_tooltip": null,
            "layout": "IPY_MODEL_8a5af20257b34554bac399929de5e9b1",
            "placeholder": "​",
            "style": "IPY_MODEL_d74ff6d8b3fa4176963ea3be8fdad88c",
            "value": " 378M/378M [00:07&lt;00:00, 58.2MB/s]"
          }
        },
        "9f980793644a4032961667a2597b06f0": {
          "model_module": "@jupyter-widgets/base",
          "model_name": "LayoutModel",
          "model_module_version": "1.2.0",
          "state": {
            "_model_module": "@jupyter-widgets/base",
            "_model_module_version": "1.2.0",
            "_model_name": "LayoutModel",
            "_view_count": null,
            "_view_module": "@jupyter-widgets/base",
            "_view_module_version": "1.2.0",
            "_view_name": "LayoutView",
            "align_content": null,
            "align_items": null,
            "align_self": null,
            "border": null,
            "bottom": null,
            "display": null,
            "flex": null,
            "flex_flow": null,
            "grid_area": null,
            "grid_auto_columns": null,
            "grid_auto_flow": null,
            "grid_auto_rows": null,
            "grid_column": null,
            "grid_gap": null,
            "grid_row": null,
            "grid_template_areas": null,
            "grid_template_columns": null,
            "grid_template_rows": null,
            "height": null,
            "justify_content": null,
            "justify_items": null,
            "left": null,
            "margin": null,
            "max_height": null,
            "max_width": null,
            "min_height": null,
            "min_width": null,
            "object_fit": null,
            "object_position": null,
            "order": null,
            "overflow": null,
            "overflow_x": null,
            "overflow_y": null,
            "padding": null,
            "right": null,
            "top": null,
            "visibility": null,
            "width": null
          }
        },
        "c515afcd52514d29b2a26859070e2791": {
          "model_module": "@jupyter-widgets/base",
          "model_name": "LayoutModel",
          "model_module_version": "1.2.0",
          "state": {
            "_model_module": "@jupyter-widgets/base",
            "_model_module_version": "1.2.0",
            "_model_name": "LayoutModel",
            "_view_count": null,
            "_view_module": "@jupyter-widgets/base",
            "_view_module_version": "1.2.0",
            "_view_name": "LayoutView",
            "align_content": null,
            "align_items": null,
            "align_self": null,
            "border": null,
            "bottom": null,
            "display": null,
            "flex": null,
            "flex_flow": null,
            "grid_area": null,
            "grid_auto_columns": null,
            "grid_auto_flow": null,
            "grid_auto_rows": null,
            "grid_column": null,
            "grid_gap": null,
            "grid_row": null,
            "grid_template_areas": null,
            "grid_template_columns": null,
            "grid_template_rows": null,
            "height": null,
            "justify_content": null,
            "justify_items": null,
            "left": null,
            "margin": null,
            "max_height": null,
            "max_width": null,
            "min_height": null,
            "min_width": null,
            "object_fit": null,
            "object_position": null,
            "order": null,
            "overflow": null,
            "overflow_x": null,
            "overflow_y": null,
            "padding": null,
            "right": null,
            "top": null,
            "visibility": null,
            "width": null
          }
        },
        "dc205895b1964cec9523384e16cd7da8": {
          "model_module": "@jupyter-widgets/controls",
          "model_name": "DescriptionStyleModel",
          "model_module_version": "1.5.0",
          "state": {
            "_model_module": "@jupyter-widgets/controls",
            "_model_module_version": "1.5.0",
            "_model_name": "DescriptionStyleModel",
            "_view_count": null,
            "_view_module": "@jupyter-widgets/base",
            "_view_module_version": "1.2.0",
            "_view_name": "StyleView",
            "description_width": ""
          }
        },
        "770c5b3851ac448fb1592f82ce7a9876": {
          "model_module": "@jupyter-widgets/base",
          "model_name": "LayoutModel",
          "model_module_version": "1.2.0",
          "state": {
            "_model_module": "@jupyter-widgets/base",
            "_model_module_version": "1.2.0",
            "_model_name": "LayoutModel",
            "_view_count": null,
            "_view_module": "@jupyter-widgets/base",
            "_view_module_version": "1.2.0",
            "_view_name": "LayoutView",
            "align_content": null,
            "align_items": null,
            "align_self": null,
            "border": null,
            "bottom": null,
            "display": null,
            "flex": null,
            "flex_flow": null,
            "grid_area": null,
            "grid_auto_columns": null,
            "grid_auto_flow": null,
            "grid_auto_rows": null,
            "grid_column": null,
            "grid_gap": null,
            "grid_row": null,
            "grid_template_areas": null,
            "grid_template_columns": null,
            "grid_template_rows": null,
            "height": null,
            "justify_content": null,
            "justify_items": null,
            "left": null,
            "margin": null,
            "max_height": null,
            "max_width": null,
            "min_height": null,
            "min_width": null,
            "object_fit": null,
            "object_position": null,
            "order": null,
            "overflow": null,
            "overflow_x": null,
            "overflow_y": null,
            "padding": null,
            "right": null,
            "top": null,
            "visibility": null,
            "width": null
          }
        },
        "1a7d7bce25924eebb79a48678be8d3a4": {
          "model_module": "@jupyter-widgets/controls",
          "model_name": "ProgressStyleModel",
          "model_module_version": "1.5.0",
          "state": {
            "_model_module": "@jupyter-widgets/controls",
            "_model_module_version": "1.5.0",
            "_model_name": "ProgressStyleModel",
            "_view_count": null,
            "_view_module": "@jupyter-widgets/base",
            "_view_module_version": "1.2.0",
            "_view_name": "StyleView",
            "bar_color": null,
            "description_width": ""
          }
        },
        "8a5af20257b34554bac399929de5e9b1": {
          "model_module": "@jupyter-widgets/base",
          "model_name": "LayoutModel",
          "model_module_version": "1.2.0",
          "state": {
            "_model_module": "@jupyter-widgets/base",
            "_model_module_version": "1.2.0",
            "_model_name": "LayoutModel",
            "_view_count": null,
            "_view_module": "@jupyter-widgets/base",
            "_view_module_version": "1.2.0",
            "_view_name": "LayoutView",
            "align_content": null,
            "align_items": null,
            "align_self": null,
            "border": null,
            "bottom": null,
            "display": null,
            "flex": null,
            "flex_flow": null,
            "grid_area": null,
            "grid_auto_columns": null,
            "grid_auto_flow": null,
            "grid_auto_rows": null,
            "grid_column": null,
            "grid_gap": null,
            "grid_row": null,
            "grid_template_areas": null,
            "grid_template_columns": null,
            "grid_template_rows": null,
            "height": null,
            "justify_content": null,
            "justify_items": null,
            "left": null,
            "margin": null,
            "max_height": null,
            "max_width": null,
            "min_height": null,
            "min_width": null,
            "object_fit": null,
            "object_position": null,
            "order": null,
            "overflow": null,
            "overflow_x": null,
            "overflow_y": null,
            "padding": null,
            "right": null,
            "top": null,
            "visibility": null,
            "width": null
          }
        },
        "d74ff6d8b3fa4176963ea3be8fdad88c": {
          "model_module": "@jupyter-widgets/controls",
          "model_name": "DescriptionStyleModel",
          "model_module_version": "1.5.0",
          "state": {
            "_model_module": "@jupyter-widgets/controls",
            "_model_module_version": "1.5.0",
            "_model_name": "DescriptionStyleModel",
            "_view_count": null,
            "_view_module": "@jupyter-widgets/base",
            "_view_module_version": "1.2.0",
            "_view_name": "StyleView",
            "description_width": ""
          }
        },
        "e80577b26bb7458f9eab0836ca1970c8": {
          "model_module": "@jupyter-widgets/controls",
          "model_name": "HBoxModel",
          "model_module_version": "1.5.0",
          "state": {
            "_dom_classes": [],
            "_model_module": "@jupyter-widgets/controls",
            "_model_module_version": "1.5.0",
            "_model_name": "HBoxModel",
            "_view_count": null,
            "_view_module": "@jupyter-widgets/controls",
            "_view_module_version": "1.5.0",
            "_view_name": "HBoxView",
            "box_style": "",
            "children": [
              "IPY_MODEL_03d66ca6dc3547a0b8887c582d99722c",
              "IPY_MODEL_3c52db84fd3b47b5b13f4ef13168eb91",
              "IPY_MODEL_8c1c98847a484e5a8aac898ff39c035e"
            ],
            "layout": "IPY_MODEL_bc0b6d12819a4f6f89128e5bd43cbd97"
          }
        },
        "03d66ca6dc3547a0b8887c582d99722c": {
          "model_module": "@jupyter-widgets/controls",
          "model_name": "HTMLModel",
          "model_module_version": "1.5.0",
          "state": {
            "_dom_classes": [],
            "_model_module": "@jupyter-widgets/controls",
            "_model_module_version": "1.5.0",
            "_model_name": "HTMLModel",
            "_view_count": null,
            "_view_module": "@jupyter-widgets/controls",
            "_view_module_version": "1.5.0",
            "_view_name": "HTMLView",
            "description": "",
            "description_tooltip": null,
            "layout": "IPY_MODEL_9f17dba808fd4c6fab590b8d06261da0",
            "placeholder": "​",
            "style": "IPY_MODEL_99fb94d5f4eb47abbaf0e6aafd9eec5c",
            "value": "Downloading (…)okenizer_config.json: 100%"
          }
        },
        "3c52db84fd3b47b5b13f4ef13168eb91": {
          "model_module": "@jupyter-widgets/controls",
          "model_name": "FloatProgressModel",
          "model_module_version": "1.5.0",
          "state": {
            "_dom_classes": [],
            "_model_module": "@jupyter-widgets/controls",
            "_model_module_version": "1.5.0",
            "_model_name": "FloatProgressModel",
            "_view_count": null,
            "_view_module": "@jupyter-widgets/controls",
            "_view_module_version": "1.5.0",
            "_view_name": "ProgressView",
            "bar_style": "success",
            "description": "",
            "description_tooltip": null,
            "layout": "IPY_MODEL_ca01297aadec45bea15f591165826e66",
            "max": 373,
            "min": 0,
            "orientation": "horizontal",
            "style": "IPY_MODEL_1e68d684bfe14e3496f0be3dd4eb0e9c",
            "value": 373
          }
        },
        "8c1c98847a484e5a8aac898ff39c035e": {
          "model_module": "@jupyter-widgets/controls",
          "model_name": "HTMLModel",
          "model_module_version": "1.5.0",
          "state": {
            "_dom_classes": [],
            "_model_module": "@jupyter-widgets/controls",
            "_model_module_version": "1.5.0",
            "_model_name": "HTMLModel",
            "_view_count": null,
            "_view_module": "@jupyter-widgets/controls",
            "_view_module_version": "1.5.0",
            "_view_name": "HTMLView",
            "description": "",
            "description_tooltip": null,
            "layout": "IPY_MODEL_d426e1b2cb864968bbad52263c0c9a34",
            "placeholder": "​",
            "style": "IPY_MODEL_24bfaf5988ea4bd0bb514e487f9379fe",
            "value": " 373/373 [00:00&lt;00:00, 16.2kB/s]"
          }
        },
        "bc0b6d12819a4f6f89128e5bd43cbd97": {
          "model_module": "@jupyter-widgets/base",
          "model_name": "LayoutModel",
          "model_module_version": "1.2.0",
          "state": {
            "_model_module": "@jupyter-widgets/base",
            "_model_module_version": "1.2.0",
            "_model_name": "LayoutModel",
            "_view_count": null,
            "_view_module": "@jupyter-widgets/base",
            "_view_module_version": "1.2.0",
            "_view_name": "LayoutView",
            "align_content": null,
            "align_items": null,
            "align_self": null,
            "border": null,
            "bottom": null,
            "display": null,
            "flex": null,
            "flex_flow": null,
            "grid_area": null,
            "grid_auto_columns": null,
            "grid_auto_flow": null,
            "grid_auto_rows": null,
            "grid_column": null,
            "grid_gap": null,
            "grid_row": null,
            "grid_template_areas": null,
            "grid_template_columns": null,
            "grid_template_rows": null,
            "height": null,
            "justify_content": null,
            "justify_items": null,
            "left": null,
            "margin": null,
            "max_height": null,
            "max_width": null,
            "min_height": null,
            "min_width": null,
            "object_fit": null,
            "object_position": null,
            "order": null,
            "overflow": null,
            "overflow_x": null,
            "overflow_y": null,
            "padding": null,
            "right": null,
            "top": null,
            "visibility": null,
            "width": null
          }
        },
        "9f17dba808fd4c6fab590b8d06261da0": {
          "model_module": "@jupyter-widgets/base",
          "model_name": "LayoutModel",
          "model_module_version": "1.2.0",
          "state": {
            "_model_module": "@jupyter-widgets/base",
            "_model_module_version": "1.2.0",
            "_model_name": "LayoutModel",
            "_view_count": null,
            "_view_module": "@jupyter-widgets/base",
            "_view_module_version": "1.2.0",
            "_view_name": "LayoutView",
            "align_content": null,
            "align_items": null,
            "align_self": null,
            "border": null,
            "bottom": null,
            "display": null,
            "flex": null,
            "flex_flow": null,
            "grid_area": null,
            "grid_auto_columns": null,
            "grid_auto_flow": null,
            "grid_auto_rows": null,
            "grid_column": null,
            "grid_gap": null,
            "grid_row": null,
            "grid_template_areas": null,
            "grid_template_columns": null,
            "grid_template_rows": null,
            "height": null,
            "justify_content": null,
            "justify_items": null,
            "left": null,
            "margin": null,
            "max_height": null,
            "max_width": null,
            "min_height": null,
            "min_width": null,
            "object_fit": null,
            "object_position": null,
            "order": null,
            "overflow": null,
            "overflow_x": null,
            "overflow_y": null,
            "padding": null,
            "right": null,
            "top": null,
            "visibility": null,
            "width": null
          }
        },
        "99fb94d5f4eb47abbaf0e6aafd9eec5c": {
          "model_module": "@jupyter-widgets/controls",
          "model_name": "DescriptionStyleModel",
          "model_module_version": "1.5.0",
          "state": {
            "_model_module": "@jupyter-widgets/controls",
            "_model_module_version": "1.5.0",
            "_model_name": "DescriptionStyleModel",
            "_view_count": null,
            "_view_module": "@jupyter-widgets/base",
            "_view_module_version": "1.2.0",
            "_view_name": "StyleView",
            "description_width": ""
          }
        },
        "ca01297aadec45bea15f591165826e66": {
          "model_module": "@jupyter-widgets/base",
          "model_name": "LayoutModel",
          "model_module_version": "1.2.0",
          "state": {
            "_model_module": "@jupyter-widgets/base",
            "_model_module_version": "1.2.0",
            "_model_name": "LayoutModel",
            "_view_count": null,
            "_view_module": "@jupyter-widgets/base",
            "_view_module_version": "1.2.0",
            "_view_name": "LayoutView",
            "align_content": null,
            "align_items": null,
            "align_self": null,
            "border": null,
            "bottom": null,
            "display": null,
            "flex": null,
            "flex_flow": null,
            "grid_area": null,
            "grid_auto_columns": null,
            "grid_auto_flow": null,
            "grid_auto_rows": null,
            "grid_column": null,
            "grid_gap": null,
            "grid_row": null,
            "grid_template_areas": null,
            "grid_template_columns": null,
            "grid_template_rows": null,
            "height": null,
            "justify_content": null,
            "justify_items": null,
            "left": null,
            "margin": null,
            "max_height": null,
            "max_width": null,
            "min_height": null,
            "min_width": null,
            "object_fit": null,
            "object_position": null,
            "order": null,
            "overflow": null,
            "overflow_x": null,
            "overflow_y": null,
            "padding": null,
            "right": null,
            "top": null,
            "visibility": null,
            "width": null
          }
        },
        "1e68d684bfe14e3496f0be3dd4eb0e9c": {
          "model_module": "@jupyter-widgets/controls",
          "model_name": "ProgressStyleModel",
          "model_module_version": "1.5.0",
          "state": {
            "_model_module": "@jupyter-widgets/controls",
            "_model_module_version": "1.5.0",
            "_model_name": "ProgressStyleModel",
            "_view_count": null,
            "_view_module": "@jupyter-widgets/base",
            "_view_module_version": "1.2.0",
            "_view_name": "StyleView",
            "bar_color": null,
            "description_width": ""
          }
        },
        "d426e1b2cb864968bbad52263c0c9a34": {
          "model_module": "@jupyter-widgets/base",
          "model_name": "LayoutModel",
          "model_module_version": "1.2.0",
          "state": {
            "_model_module": "@jupyter-widgets/base",
            "_model_module_version": "1.2.0",
            "_model_name": "LayoutModel",
            "_view_count": null,
            "_view_module": "@jupyter-widgets/base",
            "_view_module_version": "1.2.0",
            "_view_name": "LayoutView",
            "align_content": null,
            "align_items": null,
            "align_self": null,
            "border": null,
            "bottom": null,
            "display": null,
            "flex": null,
            "flex_flow": null,
            "grid_area": null,
            "grid_auto_columns": null,
            "grid_auto_flow": null,
            "grid_auto_rows": null,
            "grid_column": null,
            "grid_gap": null,
            "grid_row": null,
            "grid_template_areas": null,
            "grid_template_columns": null,
            "grid_template_rows": null,
            "height": null,
            "justify_content": null,
            "justify_items": null,
            "left": null,
            "margin": null,
            "max_height": null,
            "max_width": null,
            "min_height": null,
            "min_width": null,
            "object_fit": null,
            "object_position": null,
            "order": null,
            "overflow": null,
            "overflow_x": null,
            "overflow_y": null,
            "padding": null,
            "right": null,
            "top": null,
            "visibility": null,
            "width": null
          }
        },
        "24bfaf5988ea4bd0bb514e487f9379fe": {
          "model_module": "@jupyter-widgets/controls",
          "model_name": "DescriptionStyleModel",
          "model_module_version": "1.5.0",
          "state": {
            "_model_module": "@jupyter-widgets/controls",
            "_model_module_version": "1.5.0",
            "_model_name": "DescriptionStyleModel",
            "_view_count": null,
            "_view_module": "@jupyter-widgets/base",
            "_view_module_version": "1.2.0",
            "_view_name": "StyleView",
            "description_width": ""
          }
        },
        "674607add16e47828b1833cc2e84ed6c": {
          "model_module": "@jupyter-widgets/controls",
          "model_name": "HBoxModel",
          "model_module_version": "1.5.0",
          "state": {
            "_dom_classes": [],
            "_model_module": "@jupyter-widgets/controls",
            "_model_module_version": "1.5.0",
            "_model_name": "HBoxModel",
            "_view_count": null,
            "_view_module": "@jupyter-widgets/controls",
            "_view_module_version": "1.5.0",
            "_view_name": "HBoxView",
            "box_style": "",
            "children": [
              "IPY_MODEL_66dc7ae97d074072a09b5212a42c6009",
              "IPY_MODEL_350db73a48ac43aa8e73a3efc4167d47",
              "IPY_MODEL_cb5736902c0e44849045fc141be1d803"
            ],
            "layout": "IPY_MODEL_31858b4e5647484e89b696c6233e7915"
          }
        },
        "66dc7ae97d074072a09b5212a42c6009": {
          "model_module": "@jupyter-widgets/controls",
          "model_name": "HTMLModel",
          "model_module_version": "1.5.0",
          "state": {
            "_dom_classes": [],
            "_model_module": "@jupyter-widgets/controls",
            "_model_module_version": "1.5.0",
            "_model_name": "HTMLModel",
            "_view_count": null,
            "_view_module": "@jupyter-widgets/controls",
            "_view_module_version": "1.5.0",
            "_view_name": "HTMLView",
            "description": "",
            "description_tooltip": null,
            "layout": "IPY_MODEL_17bef6aa685046bea907ea5eae7a8ab1",
            "placeholder": "​",
            "style": "IPY_MODEL_1f0a67a7c8a643f0ac0b6ffbf11db7eb",
            "value": "Downloading (…)olve/main/vocab.json: 100%"
          }
        },
        "350db73a48ac43aa8e73a3efc4167d47": {
          "model_module": "@jupyter-widgets/controls",
          "model_name": "FloatProgressModel",
          "model_module_version": "1.5.0",
          "state": {
            "_dom_classes": [],
            "_model_module": "@jupyter-widgets/controls",
            "_model_module_version": "1.5.0",
            "_model_name": "FloatProgressModel",
            "_view_count": null,
            "_view_module": "@jupyter-widgets/controls",
            "_view_module_version": "1.5.0",
            "_view_name": "ProgressView",
            "bar_style": "success",
            "description": "",
            "description_tooltip": null,
            "layout": "IPY_MODEL_7d0c9115b5744e06943a12020ccce756",
            "max": 509,
            "min": 0,
            "orientation": "horizontal",
            "style": "IPY_MODEL_d18a82c5543d4221aa42118a96b5d536",
            "value": 509
          }
        },
        "cb5736902c0e44849045fc141be1d803": {
          "model_module": "@jupyter-widgets/controls",
          "model_name": "HTMLModel",
          "model_module_version": "1.5.0",
          "state": {
            "_dom_classes": [],
            "_model_module": "@jupyter-widgets/controls",
            "_model_module_version": "1.5.0",
            "_model_name": "HTMLModel",
            "_view_count": null,
            "_view_module": "@jupyter-widgets/controls",
            "_view_module_version": "1.5.0",
            "_view_name": "HTMLView",
            "description": "",
            "description_tooltip": null,
            "layout": "IPY_MODEL_343247031bfc41c6affd3d07c5c0e2e0",
            "placeholder": "​",
            "style": "IPY_MODEL_13c0829333cd437993982d624ceab0db",
            "value": " 509/509 [00:00&lt;00:00, 27.7kB/s]"
          }
        },
        "31858b4e5647484e89b696c6233e7915": {
          "model_module": "@jupyter-widgets/base",
          "model_name": "LayoutModel",
          "model_module_version": "1.2.0",
          "state": {
            "_model_module": "@jupyter-widgets/base",
            "_model_module_version": "1.2.0",
            "_model_name": "LayoutModel",
            "_view_count": null,
            "_view_module": "@jupyter-widgets/base",
            "_view_module_version": "1.2.0",
            "_view_name": "LayoutView",
            "align_content": null,
            "align_items": null,
            "align_self": null,
            "border": null,
            "bottom": null,
            "display": null,
            "flex": null,
            "flex_flow": null,
            "grid_area": null,
            "grid_auto_columns": null,
            "grid_auto_flow": null,
            "grid_auto_rows": null,
            "grid_column": null,
            "grid_gap": null,
            "grid_row": null,
            "grid_template_areas": null,
            "grid_template_columns": null,
            "grid_template_rows": null,
            "height": null,
            "justify_content": null,
            "justify_items": null,
            "left": null,
            "margin": null,
            "max_height": null,
            "max_width": null,
            "min_height": null,
            "min_width": null,
            "object_fit": null,
            "object_position": null,
            "order": null,
            "overflow": null,
            "overflow_x": null,
            "overflow_y": null,
            "padding": null,
            "right": null,
            "top": null,
            "visibility": null,
            "width": null
          }
        },
        "17bef6aa685046bea907ea5eae7a8ab1": {
          "model_module": "@jupyter-widgets/base",
          "model_name": "LayoutModel",
          "model_module_version": "1.2.0",
          "state": {
            "_model_module": "@jupyter-widgets/base",
            "_model_module_version": "1.2.0",
            "_model_name": "LayoutModel",
            "_view_count": null,
            "_view_module": "@jupyter-widgets/base",
            "_view_module_version": "1.2.0",
            "_view_name": "LayoutView",
            "align_content": null,
            "align_items": null,
            "align_self": null,
            "border": null,
            "bottom": null,
            "display": null,
            "flex": null,
            "flex_flow": null,
            "grid_area": null,
            "grid_auto_columns": null,
            "grid_auto_flow": null,
            "grid_auto_rows": null,
            "grid_column": null,
            "grid_gap": null,
            "grid_row": null,
            "grid_template_areas": null,
            "grid_template_columns": null,
            "grid_template_rows": null,
            "height": null,
            "justify_content": null,
            "justify_items": null,
            "left": null,
            "margin": null,
            "max_height": null,
            "max_width": null,
            "min_height": null,
            "min_width": null,
            "object_fit": null,
            "object_position": null,
            "order": null,
            "overflow": null,
            "overflow_x": null,
            "overflow_y": null,
            "padding": null,
            "right": null,
            "top": null,
            "visibility": null,
            "width": null
          }
        },
        "1f0a67a7c8a643f0ac0b6ffbf11db7eb": {
          "model_module": "@jupyter-widgets/controls",
          "model_name": "DescriptionStyleModel",
          "model_module_version": "1.5.0",
          "state": {
            "_model_module": "@jupyter-widgets/controls",
            "_model_module_version": "1.5.0",
            "_model_name": "DescriptionStyleModel",
            "_view_count": null,
            "_view_module": "@jupyter-widgets/base",
            "_view_module_version": "1.2.0",
            "_view_name": "StyleView",
            "description_width": ""
          }
        },
        "7d0c9115b5744e06943a12020ccce756": {
          "model_module": "@jupyter-widgets/base",
          "model_name": "LayoutModel",
          "model_module_version": "1.2.0",
          "state": {
            "_model_module": "@jupyter-widgets/base",
            "_model_module_version": "1.2.0",
            "_model_name": "LayoutModel",
            "_view_count": null,
            "_view_module": "@jupyter-widgets/base",
            "_view_module_version": "1.2.0",
            "_view_name": "LayoutView",
            "align_content": null,
            "align_items": null,
            "align_self": null,
            "border": null,
            "bottom": null,
            "display": null,
            "flex": null,
            "flex_flow": null,
            "grid_area": null,
            "grid_auto_columns": null,
            "grid_auto_flow": null,
            "grid_auto_rows": null,
            "grid_column": null,
            "grid_gap": null,
            "grid_row": null,
            "grid_template_areas": null,
            "grid_template_columns": null,
            "grid_template_rows": null,
            "height": null,
            "justify_content": null,
            "justify_items": null,
            "left": null,
            "margin": null,
            "max_height": null,
            "max_width": null,
            "min_height": null,
            "min_width": null,
            "object_fit": null,
            "object_position": null,
            "order": null,
            "overflow": null,
            "overflow_x": null,
            "overflow_y": null,
            "padding": null,
            "right": null,
            "top": null,
            "visibility": null,
            "width": null
          }
        },
        "d18a82c5543d4221aa42118a96b5d536": {
          "model_module": "@jupyter-widgets/controls",
          "model_name": "ProgressStyleModel",
          "model_module_version": "1.5.0",
          "state": {
            "_model_module": "@jupyter-widgets/controls",
            "_model_module_version": "1.5.0",
            "_model_name": "ProgressStyleModel",
            "_view_count": null,
            "_view_module": "@jupyter-widgets/base",
            "_view_module_version": "1.2.0",
            "_view_name": "StyleView",
            "bar_color": null,
            "description_width": ""
          }
        },
        "343247031bfc41c6affd3d07c5c0e2e0": {
          "model_module": "@jupyter-widgets/base",
          "model_name": "LayoutModel",
          "model_module_version": "1.2.0",
          "state": {
            "_model_module": "@jupyter-widgets/base",
            "_model_module_version": "1.2.0",
            "_model_name": "LayoutModel",
            "_view_count": null,
            "_view_module": "@jupyter-widgets/base",
            "_view_module_version": "1.2.0",
            "_view_name": "LayoutView",
            "align_content": null,
            "align_items": null,
            "align_self": null,
            "border": null,
            "bottom": null,
            "display": null,
            "flex": null,
            "flex_flow": null,
            "grid_area": null,
            "grid_auto_columns": null,
            "grid_auto_flow": null,
            "grid_auto_rows": null,
            "grid_column": null,
            "grid_gap": null,
            "grid_row": null,
            "grid_template_areas": null,
            "grid_template_columns": null,
            "grid_template_rows": null,
            "height": null,
            "justify_content": null,
            "justify_items": null,
            "left": null,
            "margin": null,
            "max_height": null,
            "max_width": null,
            "min_height": null,
            "min_width": null,
            "object_fit": null,
            "object_position": null,
            "order": null,
            "overflow": null,
            "overflow_x": null,
            "overflow_y": null,
            "padding": null,
            "right": null,
            "top": null,
            "visibility": null,
            "width": null
          }
        },
        "13c0829333cd437993982d624ceab0db": {
          "model_module": "@jupyter-widgets/controls",
          "model_name": "DescriptionStyleModel",
          "model_module_version": "1.5.0",
          "state": {
            "_model_module": "@jupyter-widgets/controls",
            "_model_module_version": "1.5.0",
            "_model_name": "DescriptionStyleModel",
            "_view_count": null,
            "_view_module": "@jupyter-widgets/base",
            "_view_module_version": "1.2.0",
            "_view_name": "StyleView",
            "description_width": ""
          }
        },
        "1366d335293645dd97a2d2cd71cd8108": {
          "model_module": "@jupyter-widgets/controls",
          "model_name": "HBoxModel",
          "model_module_version": "1.5.0",
          "state": {
            "_dom_classes": [],
            "_model_module": "@jupyter-widgets/controls",
            "_model_module_version": "1.5.0",
            "_model_name": "HBoxModel",
            "_view_count": null,
            "_view_module": "@jupyter-widgets/controls",
            "_view_module_version": "1.5.0",
            "_view_name": "HBoxView",
            "box_style": "",
            "children": [
              "IPY_MODEL_334f921c5b62464db5b0873518fb80b9",
              "IPY_MODEL_bacb646d56a9490390a373a6c8c9a15f",
              "IPY_MODEL_fe66740b11e946f496d68be5e2e698e8"
            ],
            "layout": "IPY_MODEL_a2513aaef9f64873bcc2144c5eb2a841"
          }
        },
        "334f921c5b62464db5b0873518fb80b9": {
          "model_module": "@jupyter-widgets/controls",
          "model_name": "HTMLModel",
          "model_module_version": "1.5.0",
          "state": {
            "_dom_classes": [],
            "_model_module": "@jupyter-widgets/controls",
            "_model_module_version": "1.5.0",
            "_model_name": "HTMLModel",
            "_view_count": null,
            "_view_module": "@jupyter-widgets/controls",
            "_view_module_version": "1.5.0",
            "_view_name": "HTMLView",
            "description": "",
            "description_tooltip": null,
            "layout": "IPY_MODEL_0a300f82b46f44ba9bec35568ec55401",
            "placeholder": "​",
            "style": "IPY_MODEL_652f0b07663f4d88bea6efcd4adbff50",
            "value": "Downloading (…)in/added_tokens.json: 100%"
          }
        },
        "bacb646d56a9490390a373a6c8c9a15f": {
          "model_module": "@jupyter-widgets/controls",
          "model_name": "FloatProgressModel",
          "model_module_version": "1.5.0",
          "state": {
            "_dom_classes": [],
            "_model_module": "@jupyter-widgets/controls",
            "_model_module_version": "1.5.0",
            "_model_name": "FloatProgressModel",
            "_view_count": null,
            "_view_module": "@jupyter-widgets/controls",
            "_view_module_version": "1.5.0",
            "_view_name": "ProgressView",
            "bar_style": "success",
            "description": "",
            "description_tooltip": null,
            "layout": "IPY_MODEL_254c06c47c854b0baa6c7dccba5d8fab",
            "max": 30,
            "min": 0,
            "orientation": "horizontal",
            "style": "IPY_MODEL_e3ccbfdd19fb46ddb4415f30ad894542",
            "value": 30
          }
        },
        "fe66740b11e946f496d68be5e2e698e8": {
          "model_module": "@jupyter-widgets/controls",
          "model_name": "HTMLModel",
          "model_module_version": "1.5.0",
          "state": {
            "_dom_classes": [],
            "_model_module": "@jupyter-widgets/controls",
            "_model_module_version": "1.5.0",
            "_model_name": "HTMLModel",
            "_view_count": null,
            "_view_module": "@jupyter-widgets/controls",
            "_view_module_version": "1.5.0",
            "_view_name": "HTMLView",
            "description": "",
            "description_tooltip": null,
            "layout": "IPY_MODEL_912cfb9518414467ba289f363d8cb38b",
            "placeholder": "​",
            "style": "IPY_MODEL_18bb30dea44d4c2d82b1afb1fe012278",
            "value": " 30.0/30.0 [00:00&lt;00:00, 1.10kB/s]"
          }
        },
        "a2513aaef9f64873bcc2144c5eb2a841": {
          "model_module": "@jupyter-widgets/base",
          "model_name": "LayoutModel",
          "model_module_version": "1.2.0",
          "state": {
            "_model_module": "@jupyter-widgets/base",
            "_model_module_version": "1.2.0",
            "_model_name": "LayoutModel",
            "_view_count": null,
            "_view_module": "@jupyter-widgets/base",
            "_view_module_version": "1.2.0",
            "_view_name": "LayoutView",
            "align_content": null,
            "align_items": null,
            "align_self": null,
            "border": null,
            "bottom": null,
            "display": null,
            "flex": null,
            "flex_flow": null,
            "grid_area": null,
            "grid_auto_columns": null,
            "grid_auto_flow": null,
            "grid_auto_rows": null,
            "grid_column": null,
            "grid_gap": null,
            "grid_row": null,
            "grid_template_areas": null,
            "grid_template_columns": null,
            "grid_template_rows": null,
            "height": null,
            "justify_content": null,
            "justify_items": null,
            "left": null,
            "margin": null,
            "max_height": null,
            "max_width": null,
            "min_height": null,
            "min_width": null,
            "object_fit": null,
            "object_position": null,
            "order": null,
            "overflow": null,
            "overflow_x": null,
            "overflow_y": null,
            "padding": null,
            "right": null,
            "top": null,
            "visibility": null,
            "width": null
          }
        },
        "0a300f82b46f44ba9bec35568ec55401": {
          "model_module": "@jupyter-widgets/base",
          "model_name": "LayoutModel",
          "model_module_version": "1.2.0",
          "state": {
            "_model_module": "@jupyter-widgets/base",
            "_model_module_version": "1.2.0",
            "_model_name": "LayoutModel",
            "_view_count": null,
            "_view_module": "@jupyter-widgets/base",
            "_view_module_version": "1.2.0",
            "_view_name": "LayoutView",
            "align_content": null,
            "align_items": null,
            "align_self": null,
            "border": null,
            "bottom": null,
            "display": null,
            "flex": null,
            "flex_flow": null,
            "grid_area": null,
            "grid_auto_columns": null,
            "grid_auto_flow": null,
            "grid_auto_rows": null,
            "grid_column": null,
            "grid_gap": null,
            "grid_row": null,
            "grid_template_areas": null,
            "grid_template_columns": null,
            "grid_template_rows": null,
            "height": null,
            "justify_content": null,
            "justify_items": null,
            "left": null,
            "margin": null,
            "max_height": null,
            "max_width": null,
            "min_height": null,
            "min_width": null,
            "object_fit": null,
            "object_position": null,
            "order": null,
            "overflow": null,
            "overflow_x": null,
            "overflow_y": null,
            "padding": null,
            "right": null,
            "top": null,
            "visibility": null,
            "width": null
          }
        },
        "652f0b07663f4d88bea6efcd4adbff50": {
          "model_module": "@jupyter-widgets/controls",
          "model_name": "DescriptionStyleModel",
          "model_module_version": "1.5.0",
          "state": {
            "_model_module": "@jupyter-widgets/controls",
            "_model_module_version": "1.5.0",
            "_model_name": "DescriptionStyleModel",
            "_view_count": null,
            "_view_module": "@jupyter-widgets/base",
            "_view_module_version": "1.2.0",
            "_view_name": "StyleView",
            "description_width": ""
          }
        },
        "254c06c47c854b0baa6c7dccba5d8fab": {
          "model_module": "@jupyter-widgets/base",
          "model_name": "LayoutModel",
          "model_module_version": "1.2.0",
          "state": {
            "_model_module": "@jupyter-widgets/base",
            "_model_module_version": "1.2.0",
            "_model_name": "LayoutModel",
            "_view_count": null,
            "_view_module": "@jupyter-widgets/base",
            "_view_module_version": "1.2.0",
            "_view_name": "LayoutView",
            "align_content": null,
            "align_items": null,
            "align_self": null,
            "border": null,
            "bottom": null,
            "display": null,
            "flex": null,
            "flex_flow": null,
            "grid_area": null,
            "grid_auto_columns": null,
            "grid_auto_flow": null,
            "grid_auto_rows": null,
            "grid_column": null,
            "grid_gap": null,
            "grid_row": null,
            "grid_template_areas": null,
            "grid_template_columns": null,
            "grid_template_rows": null,
            "height": null,
            "justify_content": null,
            "justify_items": null,
            "left": null,
            "margin": null,
            "max_height": null,
            "max_width": null,
            "min_height": null,
            "min_width": null,
            "object_fit": null,
            "object_position": null,
            "order": null,
            "overflow": null,
            "overflow_x": null,
            "overflow_y": null,
            "padding": null,
            "right": null,
            "top": null,
            "visibility": null,
            "width": null
          }
        },
        "e3ccbfdd19fb46ddb4415f30ad894542": {
          "model_module": "@jupyter-widgets/controls",
          "model_name": "ProgressStyleModel",
          "model_module_version": "1.5.0",
          "state": {
            "_model_module": "@jupyter-widgets/controls",
            "_model_module_version": "1.5.0",
            "_model_name": "ProgressStyleModel",
            "_view_count": null,
            "_view_module": "@jupyter-widgets/base",
            "_view_module_version": "1.2.0",
            "_view_name": "StyleView",
            "bar_color": null,
            "description_width": ""
          }
        },
        "912cfb9518414467ba289f363d8cb38b": {
          "model_module": "@jupyter-widgets/base",
          "model_name": "LayoutModel",
          "model_module_version": "1.2.0",
          "state": {
            "_model_module": "@jupyter-widgets/base",
            "_model_module_version": "1.2.0",
            "_model_name": "LayoutModel",
            "_view_count": null,
            "_view_module": "@jupyter-widgets/base",
            "_view_module_version": "1.2.0",
            "_view_name": "LayoutView",
            "align_content": null,
            "align_items": null,
            "align_self": null,
            "border": null,
            "bottom": null,
            "display": null,
            "flex": null,
            "flex_flow": null,
            "grid_area": null,
            "grid_auto_columns": null,
            "grid_auto_flow": null,
            "grid_auto_rows": null,
            "grid_column": null,
            "grid_gap": null,
            "grid_row": null,
            "grid_template_areas": null,
            "grid_template_columns": null,
            "grid_template_rows": null,
            "height": null,
            "justify_content": null,
            "justify_items": null,
            "left": null,
            "margin": null,
            "max_height": null,
            "max_width": null,
            "min_height": null,
            "min_width": null,
            "object_fit": null,
            "object_position": null,
            "order": null,
            "overflow": null,
            "overflow_x": null,
            "overflow_y": null,
            "padding": null,
            "right": null,
            "top": null,
            "visibility": null,
            "width": null
          }
        },
        "18bb30dea44d4c2d82b1afb1fe012278": {
          "model_module": "@jupyter-widgets/controls",
          "model_name": "DescriptionStyleModel",
          "model_module_version": "1.5.0",
          "state": {
            "_model_module": "@jupyter-widgets/controls",
            "_model_module_version": "1.5.0",
            "_model_name": "DescriptionStyleModel",
            "_view_count": null,
            "_view_module": "@jupyter-widgets/base",
            "_view_module_version": "1.2.0",
            "_view_name": "StyleView",
            "description_width": ""
          }
        },
        "732e636d564d4c2b930c4fe543dac9c1": {
          "model_module": "@jupyter-widgets/controls",
          "model_name": "HBoxModel",
          "model_module_version": "1.5.0",
          "state": {
            "_dom_classes": [],
            "_model_module": "@jupyter-widgets/controls",
            "_model_module_version": "1.5.0",
            "_model_name": "HBoxModel",
            "_view_count": null,
            "_view_module": "@jupyter-widgets/controls",
            "_view_module_version": "1.5.0",
            "_view_name": "HBoxView",
            "box_style": "",
            "children": [
              "IPY_MODEL_f3a2fd50b77f46d29ac99d67673cec2a",
              "IPY_MODEL_bf3a8ba8d59d47dc8481784026cfa871",
              "IPY_MODEL_2b444bc80de146779ceb59c70d900263"
            ],
            "layout": "IPY_MODEL_4dd3fbf19fc2438aacd11b43b4d7e115"
          }
        },
        "f3a2fd50b77f46d29ac99d67673cec2a": {
          "model_module": "@jupyter-widgets/controls",
          "model_name": "HTMLModel",
          "model_module_version": "1.5.0",
          "state": {
            "_dom_classes": [],
            "_model_module": "@jupyter-widgets/controls",
            "_model_module_version": "1.5.0",
            "_model_name": "HTMLModel",
            "_view_count": null,
            "_view_module": "@jupyter-widgets/controls",
            "_view_module_version": "1.5.0",
            "_view_name": "HTMLView",
            "description": "",
            "description_tooltip": null,
            "layout": "IPY_MODEL_65f149ce5b214cb798eddf79a2a634e9",
            "placeholder": "​",
            "style": "IPY_MODEL_3bb4e673126047e2ac51fc292c268008",
            "value": "Downloading (…)cial_tokens_map.json: 100%"
          }
        },
        "bf3a8ba8d59d47dc8481784026cfa871": {
          "model_module": "@jupyter-widgets/controls",
          "model_name": "FloatProgressModel",
          "model_module_version": "1.5.0",
          "state": {
            "_dom_classes": [],
            "_model_module": "@jupyter-widgets/controls",
            "_model_module_version": "1.5.0",
            "_model_name": "FloatProgressModel",
            "_view_count": null,
            "_view_module": "@jupyter-widgets/controls",
            "_view_module_version": "1.5.0",
            "_view_name": "ProgressView",
            "bar_style": "success",
            "description": "",
            "description_tooltip": null,
            "layout": "IPY_MODEL_45f5a3286b174035ae670d0b133d5957",
            "max": 406,
            "min": 0,
            "orientation": "horizontal",
            "style": "IPY_MODEL_01a4bd1e25ee43bda2057d7a8b8604ab",
            "value": 406
          }
        },
        "2b444bc80de146779ceb59c70d900263": {
          "model_module": "@jupyter-widgets/controls",
          "model_name": "HTMLModel",
          "model_module_version": "1.5.0",
          "state": {
            "_dom_classes": [],
            "_model_module": "@jupyter-widgets/controls",
            "_model_module_version": "1.5.0",
            "_model_name": "HTMLModel",
            "_view_count": null,
            "_view_module": "@jupyter-widgets/controls",
            "_view_module_version": "1.5.0",
            "_view_name": "HTMLView",
            "description": "",
            "description_tooltip": null,
            "layout": "IPY_MODEL_ee93aee69abf4fabb5fb5dd2eb324b86",
            "placeholder": "​",
            "style": "IPY_MODEL_b19850d9bba741d1af443f22039312a8",
            "value": " 406/406 [00:00&lt;00:00, 17.6kB/s]"
          }
        },
        "4dd3fbf19fc2438aacd11b43b4d7e115": {
          "model_module": "@jupyter-widgets/base",
          "model_name": "LayoutModel",
          "model_module_version": "1.2.0",
          "state": {
            "_model_module": "@jupyter-widgets/base",
            "_model_module_version": "1.2.0",
            "_model_name": "LayoutModel",
            "_view_count": null,
            "_view_module": "@jupyter-widgets/base",
            "_view_module_version": "1.2.0",
            "_view_name": "LayoutView",
            "align_content": null,
            "align_items": null,
            "align_self": null,
            "border": null,
            "bottom": null,
            "display": null,
            "flex": null,
            "flex_flow": null,
            "grid_area": null,
            "grid_auto_columns": null,
            "grid_auto_flow": null,
            "grid_auto_rows": null,
            "grid_column": null,
            "grid_gap": null,
            "grid_row": null,
            "grid_template_areas": null,
            "grid_template_columns": null,
            "grid_template_rows": null,
            "height": null,
            "justify_content": null,
            "justify_items": null,
            "left": null,
            "margin": null,
            "max_height": null,
            "max_width": null,
            "min_height": null,
            "min_width": null,
            "object_fit": null,
            "object_position": null,
            "order": null,
            "overflow": null,
            "overflow_x": null,
            "overflow_y": null,
            "padding": null,
            "right": null,
            "top": null,
            "visibility": null,
            "width": null
          }
        },
        "65f149ce5b214cb798eddf79a2a634e9": {
          "model_module": "@jupyter-widgets/base",
          "model_name": "LayoutModel",
          "model_module_version": "1.2.0",
          "state": {
            "_model_module": "@jupyter-widgets/base",
            "_model_module_version": "1.2.0",
            "_model_name": "LayoutModel",
            "_view_count": null,
            "_view_module": "@jupyter-widgets/base",
            "_view_module_version": "1.2.0",
            "_view_name": "LayoutView",
            "align_content": null,
            "align_items": null,
            "align_self": null,
            "border": null,
            "bottom": null,
            "display": null,
            "flex": null,
            "flex_flow": null,
            "grid_area": null,
            "grid_auto_columns": null,
            "grid_auto_flow": null,
            "grid_auto_rows": null,
            "grid_column": null,
            "grid_gap": null,
            "grid_row": null,
            "grid_template_areas": null,
            "grid_template_columns": null,
            "grid_template_rows": null,
            "height": null,
            "justify_content": null,
            "justify_items": null,
            "left": null,
            "margin": null,
            "max_height": null,
            "max_width": null,
            "min_height": null,
            "min_width": null,
            "object_fit": null,
            "object_position": null,
            "order": null,
            "overflow": null,
            "overflow_x": null,
            "overflow_y": null,
            "padding": null,
            "right": null,
            "top": null,
            "visibility": null,
            "width": null
          }
        },
        "3bb4e673126047e2ac51fc292c268008": {
          "model_module": "@jupyter-widgets/controls",
          "model_name": "DescriptionStyleModel",
          "model_module_version": "1.5.0",
          "state": {
            "_model_module": "@jupyter-widgets/controls",
            "_model_module_version": "1.5.0",
            "_model_name": "DescriptionStyleModel",
            "_view_count": null,
            "_view_module": "@jupyter-widgets/base",
            "_view_module_version": "1.2.0",
            "_view_name": "StyleView",
            "description_width": ""
          }
        },
        "45f5a3286b174035ae670d0b133d5957": {
          "model_module": "@jupyter-widgets/base",
          "model_name": "LayoutModel",
          "model_module_version": "1.2.0",
          "state": {
            "_model_module": "@jupyter-widgets/base",
            "_model_module_version": "1.2.0",
            "_model_name": "LayoutModel",
            "_view_count": null,
            "_view_module": "@jupyter-widgets/base",
            "_view_module_version": "1.2.0",
            "_view_name": "LayoutView",
            "align_content": null,
            "align_items": null,
            "align_self": null,
            "border": null,
            "bottom": null,
            "display": null,
            "flex": null,
            "flex_flow": null,
            "grid_area": null,
            "grid_auto_columns": null,
            "grid_auto_flow": null,
            "grid_auto_rows": null,
            "grid_column": null,
            "grid_gap": null,
            "grid_row": null,
            "grid_template_areas": null,
            "grid_template_columns": null,
            "grid_template_rows": null,
            "height": null,
            "justify_content": null,
            "justify_items": null,
            "left": null,
            "margin": null,
            "max_height": null,
            "max_width": null,
            "min_height": null,
            "min_width": null,
            "object_fit": null,
            "object_position": null,
            "order": null,
            "overflow": null,
            "overflow_x": null,
            "overflow_y": null,
            "padding": null,
            "right": null,
            "top": null,
            "visibility": null,
            "width": null
          }
        },
        "01a4bd1e25ee43bda2057d7a8b8604ab": {
          "model_module": "@jupyter-widgets/controls",
          "model_name": "ProgressStyleModel",
          "model_module_version": "1.5.0",
          "state": {
            "_model_module": "@jupyter-widgets/controls",
            "_model_module_version": "1.5.0",
            "_model_name": "ProgressStyleModel",
            "_view_count": null,
            "_view_module": "@jupyter-widgets/base",
            "_view_module_version": "1.2.0",
            "_view_name": "StyleView",
            "bar_color": null,
            "description_width": ""
          }
        },
        "ee93aee69abf4fabb5fb5dd2eb324b86": {
          "model_module": "@jupyter-widgets/base",
          "model_name": "LayoutModel",
          "model_module_version": "1.2.0",
          "state": {
            "_model_module": "@jupyter-widgets/base",
            "_model_module_version": "1.2.0",
            "_model_name": "LayoutModel",
            "_view_count": null,
            "_view_module": "@jupyter-widgets/base",
            "_view_module_version": "1.2.0",
            "_view_name": "LayoutView",
            "align_content": null,
            "align_items": null,
            "align_self": null,
            "border": null,
            "bottom": null,
            "display": null,
            "flex": null,
            "flex_flow": null,
            "grid_area": null,
            "grid_auto_columns": null,
            "grid_auto_flow": null,
            "grid_auto_rows": null,
            "grid_column": null,
            "grid_gap": null,
            "grid_row": null,
            "grid_template_areas": null,
            "grid_template_columns": null,
            "grid_template_rows": null,
            "height": null,
            "justify_content": null,
            "justify_items": null,
            "left": null,
            "margin": null,
            "max_height": null,
            "max_width": null,
            "min_height": null,
            "min_width": null,
            "object_fit": null,
            "object_position": null,
            "order": null,
            "overflow": null,
            "overflow_x": null,
            "overflow_y": null,
            "padding": null,
            "right": null,
            "top": null,
            "visibility": null,
            "width": null
          }
        },
        "b19850d9bba741d1af443f22039312a8": {
          "model_module": "@jupyter-widgets/controls",
          "model_name": "DescriptionStyleModel",
          "model_module_version": "1.5.0",
          "state": {
            "_model_module": "@jupyter-widgets/controls",
            "_model_module_version": "1.5.0",
            "_model_name": "DescriptionStyleModel",
            "_view_count": null,
            "_view_module": "@jupyter-widgets/base",
            "_view_module_version": "1.2.0",
            "_view_name": "StyleView",
            "description_width": ""
          }
        },
        "7ec1412c185146d7b3e595cd7409e247": {
          "model_module": "@jupyter-widgets/controls",
          "model_name": "HBoxModel",
          "model_module_version": "1.5.0",
          "state": {
            "_dom_classes": [],
            "_model_module": "@jupyter-widgets/controls",
            "_model_module_version": "1.5.0",
            "_model_name": "HBoxModel",
            "_view_count": null,
            "_view_module": "@jupyter-widgets/controls",
            "_view_module_version": "1.5.0",
            "_view_name": "HBoxView",
            "box_style": "",
            "children": [
              "IPY_MODEL_0ec6e2b4c9e44865bacb31aa1366781f",
              "IPY_MODEL_18ac8596aedf41a8886845e72638f0ed",
              "IPY_MODEL_38cce8788c5a48c2b0a32d8e1ecd50c6"
            ],
            "layout": "IPY_MODEL_e595d48c99e44154a5aa196770b334a1"
          }
        },
        "0ec6e2b4c9e44865bacb31aa1366781f": {
          "model_module": "@jupyter-widgets/controls",
          "model_name": "HTMLModel",
          "model_module_version": "1.5.0",
          "state": {
            "_dom_classes": [],
            "_model_module": "@jupyter-widgets/controls",
            "_model_module_version": "1.5.0",
            "_model_name": "HTMLModel",
            "_view_count": null,
            "_view_module": "@jupyter-widgets/controls",
            "_view_module_version": "1.5.0",
            "_view_name": "HTMLView",
            "description": "",
            "description_tooltip": null,
            "layout": "IPY_MODEL_64bff843ed8c4c3ea3eba8664a1d25cb",
            "placeholder": "​",
            "style": "IPY_MODEL_21daf034fbeb4ddd931c243045a3fa2a",
            "value": "Downloading (…)rocessor_config.json: 100%"
          }
        },
        "18ac8596aedf41a8886845e72638f0ed": {
          "model_module": "@jupyter-widgets/controls",
          "model_name": "FloatProgressModel",
          "model_module_version": "1.5.0",
          "state": {
            "_dom_classes": [],
            "_model_module": "@jupyter-widgets/controls",
            "_model_module_version": "1.5.0",
            "_model_name": "FloatProgressModel",
            "_view_count": null,
            "_view_module": "@jupyter-widgets/controls",
            "_view_module_version": "1.5.0",
            "_view_name": "ProgressView",
            "bar_style": "success",
            "description": "",
            "description_tooltip": null,
            "layout": "IPY_MODEL_068bd514dbf844899f66d0622947a35e",
            "max": 215,
            "min": 0,
            "orientation": "horizontal",
            "style": "IPY_MODEL_6876f775765b4b9398799c0bca213ccc",
            "value": 215
          }
        },
        "38cce8788c5a48c2b0a32d8e1ecd50c6": {
          "model_module": "@jupyter-widgets/controls",
          "model_name": "HTMLModel",
          "model_module_version": "1.5.0",
          "state": {
            "_dom_classes": [],
            "_model_module": "@jupyter-widgets/controls",
            "_model_module_version": "1.5.0",
            "_model_name": "HTMLModel",
            "_view_count": null,
            "_view_module": "@jupyter-widgets/controls",
            "_view_module_version": "1.5.0",
            "_view_name": "HTMLView",
            "description": "",
            "description_tooltip": null,
            "layout": "IPY_MODEL_5975b80b217f4aee8ca483394ef369b1",
            "placeholder": "​",
            "style": "IPY_MODEL_8ae6e9195e3544b8998ef76c6b7f5741",
            "value": " 215/215 [00:00&lt;00:00, 8.98kB/s]"
          }
        },
        "e595d48c99e44154a5aa196770b334a1": {
          "model_module": "@jupyter-widgets/base",
          "model_name": "LayoutModel",
          "model_module_version": "1.2.0",
          "state": {
            "_model_module": "@jupyter-widgets/base",
            "_model_module_version": "1.2.0",
            "_model_name": "LayoutModel",
            "_view_count": null,
            "_view_module": "@jupyter-widgets/base",
            "_view_module_version": "1.2.0",
            "_view_name": "LayoutView",
            "align_content": null,
            "align_items": null,
            "align_self": null,
            "border": null,
            "bottom": null,
            "display": null,
            "flex": null,
            "flex_flow": null,
            "grid_area": null,
            "grid_auto_columns": null,
            "grid_auto_flow": null,
            "grid_auto_rows": null,
            "grid_column": null,
            "grid_gap": null,
            "grid_row": null,
            "grid_template_areas": null,
            "grid_template_columns": null,
            "grid_template_rows": null,
            "height": null,
            "justify_content": null,
            "justify_items": null,
            "left": null,
            "margin": null,
            "max_height": null,
            "max_width": null,
            "min_height": null,
            "min_width": null,
            "object_fit": null,
            "object_position": null,
            "order": null,
            "overflow": null,
            "overflow_x": null,
            "overflow_y": null,
            "padding": null,
            "right": null,
            "top": null,
            "visibility": null,
            "width": null
          }
        },
        "64bff843ed8c4c3ea3eba8664a1d25cb": {
          "model_module": "@jupyter-widgets/base",
          "model_name": "LayoutModel",
          "model_module_version": "1.2.0",
          "state": {
            "_model_module": "@jupyter-widgets/base",
            "_model_module_version": "1.2.0",
            "_model_name": "LayoutModel",
            "_view_count": null,
            "_view_module": "@jupyter-widgets/base",
            "_view_module_version": "1.2.0",
            "_view_name": "LayoutView",
            "align_content": null,
            "align_items": null,
            "align_self": null,
            "border": null,
            "bottom": null,
            "display": null,
            "flex": null,
            "flex_flow": null,
            "grid_area": null,
            "grid_auto_columns": null,
            "grid_auto_flow": null,
            "grid_auto_rows": null,
            "grid_column": null,
            "grid_gap": null,
            "grid_row": null,
            "grid_template_areas": null,
            "grid_template_columns": null,
            "grid_template_rows": null,
            "height": null,
            "justify_content": null,
            "justify_items": null,
            "left": null,
            "margin": null,
            "max_height": null,
            "max_width": null,
            "min_height": null,
            "min_width": null,
            "object_fit": null,
            "object_position": null,
            "order": null,
            "overflow": null,
            "overflow_x": null,
            "overflow_y": null,
            "padding": null,
            "right": null,
            "top": null,
            "visibility": null,
            "width": null
          }
        },
        "21daf034fbeb4ddd931c243045a3fa2a": {
          "model_module": "@jupyter-widgets/controls",
          "model_name": "DescriptionStyleModel",
          "model_module_version": "1.5.0",
          "state": {
            "_model_module": "@jupyter-widgets/controls",
            "_model_module_version": "1.5.0",
            "_model_name": "DescriptionStyleModel",
            "_view_count": null,
            "_view_module": "@jupyter-widgets/base",
            "_view_module_version": "1.2.0",
            "_view_name": "StyleView",
            "description_width": ""
          }
        },
        "068bd514dbf844899f66d0622947a35e": {
          "model_module": "@jupyter-widgets/base",
          "model_name": "LayoutModel",
          "model_module_version": "1.2.0",
          "state": {
            "_model_module": "@jupyter-widgets/base",
            "_model_module_version": "1.2.0",
            "_model_name": "LayoutModel",
            "_view_count": null,
            "_view_module": "@jupyter-widgets/base",
            "_view_module_version": "1.2.0",
            "_view_name": "LayoutView",
            "align_content": null,
            "align_items": null,
            "align_self": null,
            "border": null,
            "bottom": null,
            "display": null,
            "flex": null,
            "flex_flow": null,
            "grid_area": null,
            "grid_auto_columns": null,
            "grid_auto_flow": null,
            "grid_auto_rows": null,
            "grid_column": null,
            "grid_gap": null,
            "grid_row": null,
            "grid_template_areas": null,
            "grid_template_columns": null,
            "grid_template_rows": null,
            "height": null,
            "justify_content": null,
            "justify_items": null,
            "left": null,
            "margin": null,
            "max_height": null,
            "max_width": null,
            "min_height": null,
            "min_width": null,
            "object_fit": null,
            "object_position": null,
            "order": null,
            "overflow": null,
            "overflow_x": null,
            "overflow_y": null,
            "padding": null,
            "right": null,
            "top": null,
            "visibility": null,
            "width": null
          }
        },
        "6876f775765b4b9398799c0bca213ccc": {
          "model_module": "@jupyter-widgets/controls",
          "model_name": "ProgressStyleModel",
          "model_module_version": "1.5.0",
          "state": {
            "_model_module": "@jupyter-widgets/controls",
            "_model_module_version": "1.5.0",
            "_model_name": "ProgressStyleModel",
            "_view_count": null,
            "_view_module": "@jupyter-widgets/base",
            "_view_module_version": "1.2.0",
            "_view_name": "StyleView",
            "bar_color": null,
            "description_width": ""
          }
        },
        "5975b80b217f4aee8ca483394ef369b1": {
          "model_module": "@jupyter-widgets/base",
          "model_name": "LayoutModel",
          "model_module_version": "1.2.0",
          "state": {
            "_model_module": "@jupyter-widgets/base",
            "_model_module_version": "1.2.0",
            "_model_name": "LayoutModel",
            "_view_count": null,
            "_view_module": "@jupyter-widgets/base",
            "_view_module_version": "1.2.0",
            "_view_name": "LayoutView",
            "align_content": null,
            "align_items": null,
            "align_self": null,
            "border": null,
            "bottom": null,
            "display": null,
            "flex": null,
            "flex_flow": null,
            "grid_area": null,
            "grid_auto_columns": null,
            "grid_auto_flow": null,
            "grid_auto_rows": null,
            "grid_column": null,
            "grid_gap": null,
            "grid_row": null,
            "grid_template_areas": null,
            "grid_template_columns": null,
            "grid_template_rows": null,
            "height": null,
            "justify_content": null,
            "justify_items": null,
            "left": null,
            "margin": null,
            "max_height": null,
            "max_width": null,
            "min_height": null,
            "min_width": null,
            "object_fit": null,
            "object_position": null,
            "order": null,
            "overflow": null,
            "overflow_x": null,
            "overflow_y": null,
            "padding": null,
            "right": null,
            "top": null,
            "visibility": null,
            "width": null
          }
        },
        "8ae6e9195e3544b8998ef76c6b7f5741": {
          "model_module": "@jupyter-widgets/controls",
          "model_name": "DescriptionStyleModel",
          "model_module_version": "1.5.0",
          "state": {
            "_model_module": "@jupyter-widgets/controls",
            "_model_module_version": "1.5.0",
            "_model_name": "DescriptionStyleModel",
            "_view_count": null,
            "_view_module": "@jupyter-widgets/base",
            "_view_module_version": "1.2.0",
            "_view_name": "StyleView",
            "description_width": ""
          }
        },
        "ceb7d0740e98438da6c6530d55b837fd": {
          "model_module": "@jupyter-widgets/controls",
          "model_name": "HBoxModel",
          "model_module_version": "1.5.0",
          "state": {
            "_dom_classes": [],
            "_model_module": "@jupyter-widgets/controls",
            "_model_module_version": "1.5.0",
            "_model_name": "HBoxModel",
            "_view_count": null,
            "_view_module": "@jupyter-widgets/controls",
            "_view_module_version": "1.5.0",
            "_view_name": "HBoxView",
            "box_style": "",
            "children": [
              "IPY_MODEL_8030ce46a09b4dcf9c859387f2326104",
              "IPY_MODEL_43fd5dc2f4104e91b4d68a3fc360bae4",
              "IPY_MODEL_e528e40823ce4d2b91b1e78022359ae6"
            ],
            "layout": "IPY_MODEL_4f0dd9d34ccf4291a897550c2649f1a3"
          }
        },
        "8030ce46a09b4dcf9c859387f2326104": {
          "model_module": "@jupyter-widgets/controls",
          "model_name": "HTMLModel",
          "model_module_version": "1.5.0",
          "state": {
            "_dom_classes": [],
            "_model_module": "@jupyter-widgets/controls",
            "_model_module_version": "1.5.0",
            "_model_name": "HTMLModel",
            "_view_count": null,
            "_view_module": "@jupyter-widgets/controls",
            "_view_module_version": "1.5.0",
            "_view_name": "HTMLView",
            "description": "",
            "description_tooltip": null,
            "layout": "IPY_MODEL_7d49cc653e014d57bcc4fcc154b51357",
            "placeholder": "​",
            "style": "IPY_MODEL_7479a519dc114d9991815e4c5315c09d",
            "value": "Transcribing Audios: 100%"
          }
        },
        "43fd5dc2f4104e91b4d68a3fc360bae4": {
          "model_module": "@jupyter-widgets/controls",
          "model_name": "FloatProgressModel",
          "model_module_version": "1.5.0",
          "state": {
            "_dom_classes": [],
            "_model_module": "@jupyter-widgets/controls",
            "_model_module_version": "1.5.0",
            "_model_name": "FloatProgressModel",
            "_view_count": null,
            "_view_module": "@jupyter-widgets/controls",
            "_view_module_version": "1.5.0",
            "_view_name": "ProgressView",
            "bar_style": "",
            "description": "",
            "description_tooltip": null,
            "layout": "IPY_MODEL_63228d60b3494c35bb723d4845a453a2",
            "max": 1,
            "min": 0,
            "orientation": "horizontal",
            "style": "IPY_MODEL_dee92219915548cc9e782f63ef888809",
            "value": 1
          }
        },
        "e528e40823ce4d2b91b1e78022359ae6": {
          "model_module": "@jupyter-widgets/controls",
          "model_name": "HTMLModel",
          "model_module_version": "1.5.0",
          "state": {
            "_dom_classes": [],
            "_model_module": "@jupyter-widgets/controls",
            "_model_module_version": "1.5.0",
            "_model_name": "HTMLModel",
            "_view_count": null,
            "_view_module": "@jupyter-widgets/controls",
            "_view_module_version": "1.5.0",
            "_view_name": "HTMLView",
            "description": "",
            "description_tooltip": null,
            "layout": "IPY_MODEL_3ed6ad40126346378ce5cae23b0dabea",
            "placeholder": "​",
            "style": "IPY_MODEL_c93564eb12944c5f9ae3004347d96166",
            "value": " 1/1 [00:02&lt;00:00,  2.48s/ examples]"
          }
        },
        "4f0dd9d34ccf4291a897550c2649f1a3": {
          "model_module": "@jupyter-widgets/base",
          "model_name": "LayoutModel",
          "model_module_version": "1.2.0",
          "state": {
            "_model_module": "@jupyter-widgets/base",
            "_model_module_version": "1.2.0",
            "_model_name": "LayoutModel",
            "_view_count": null,
            "_view_module": "@jupyter-widgets/base",
            "_view_module_version": "1.2.0",
            "_view_name": "LayoutView",
            "align_content": null,
            "align_items": null,
            "align_self": null,
            "border": null,
            "bottom": null,
            "display": null,
            "flex": null,
            "flex_flow": null,
            "grid_area": null,
            "grid_auto_columns": null,
            "grid_auto_flow": null,
            "grid_auto_rows": null,
            "grid_column": null,
            "grid_gap": null,
            "grid_row": null,
            "grid_template_areas": null,
            "grid_template_columns": null,
            "grid_template_rows": null,
            "height": null,
            "justify_content": null,
            "justify_items": null,
            "left": null,
            "margin": null,
            "max_height": null,
            "max_width": null,
            "min_height": null,
            "min_width": null,
            "object_fit": null,
            "object_position": null,
            "order": null,
            "overflow": null,
            "overflow_x": null,
            "overflow_y": null,
            "padding": null,
            "right": null,
            "top": null,
            "visibility": "hidden",
            "width": null
          }
        },
        "7d49cc653e014d57bcc4fcc154b51357": {
          "model_module": "@jupyter-widgets/base",
          "model_name": "LayoutModel",
          "model_module_version": "1.2.0",
          "state": {
            "_model_module": "@jupyter-widgets/base",
            "_model_module_version": "1.2.0",
            "_model_name": "LayoutModel",
            "_view_count": null,
            "_view_module": "@jupyter-widgets/base",
            "_view_module_version": "1.2.0",
            "_view_name": "LayoutView",
            "align_content": null,
            "align_items": null,
            "align_self": null,
            "border": null,
            "bottom": null,
            "display": null,
            "flex": null,
            "flex_flow": null,
            "grid_area": null,
            "grid_auto_columns": null,
            "grid_auto_flow": null,
            "grid_auto_rows": null,
            "grid_column": null,
            "grid_gap": null,
            "grid_row": null,
            "grid_template_areas": null,
            "grid_template_columns": null,
            "grid_template_rows": null,
            "height": null,
            "justify_content": null,
            "justify_items": null,
            "left": null,
            "margin": null,
            "max_height": null,
            "max_width": null,
            "min_height": null,
            "min_width": null,
            "object_fit": null,
            "object_position": null,
            "order": null,
            "overflow": null,
            "overflow_x": null,
            "overflow_y": null,
            "padding": null,
            "right": null,
            "top": null,
            "visibility": null,
            "width": null
          }
        },
        "7479a519dc114d9991815e4c5315c09d": {
          "model_module": "@jupyter-widgets/controls",
          "model_name": "DescriptionStyleModel",
          "model_module_version": "1.5.0",
          "state": {
            "_model_module": "@jupyter-widgets/controls",
            "_model_module_version": "1.5.0",
            "_model_name": "DescriptionStyleModel",
            "_view_count": null,
            "_view_module": "@jupyter-widgets/base",
            "_view_module_version": "1.2.0",
            "_view_name": "StyleView",
            "description_width": ""
          }
        },
        "63228d60b3494c35bb723d4845a453a2": {
          "model_module": "@jupyter-widgets/base",
          "model_name": "LayoutModel",
          "model_module_version": "1.2.0",
          "state": {
            "_model_module": "@jupyter-widgets/base",
            "_model_module_version": "1.2.0",
            "_model_name": "LayoutModel",
            "_view_count": null,
            "_view_module": "@jupyter-widgets/base",
            "_view_module_version": "1.2.0",
            "_view_name": "LayoutView",
            "align_content": null,
            "align_items": null,
            "align_self": null,
            "border": null,
            "bottom": null,
            "display": null,
            "flex": null,
            "flex_flow": null,
            "grid_area": null,
            "grid_auto_columns": null,
            "grid_auto_flow": null,
            "grid_auto_rows": null,
            "grid_column": null,
            "grid_gap": null,
            "grid_row": null,
            "grid_template_areas": null,
            "grid_template_columns": null,
            "grid_template_rows": null,
            "height": null,
            "justify_content": null,
            "justify_items": null,
            "left": null,
            "margin": null,
            "max_height": null,
            "max_width": null,
            "min_height": null,
            "min_width": null,
            "object_fit": null,
            "object_position": null,
            "order": null,
            "overflow": null,
            "overflow_x": null,
            "overflow_y": null,
            "padding": null,
            "right": null,
            "top": null,
            "visibility": null,
            "width": null
          }
        },
        "dee92219915548cc9e782f63ef888809": {
          "model_module": "@jupyter-widgets/controls",
          "model_name": "ProgressStyleModel",
          "model_module_version": "1.5.0",
          "state": {
            "_model_module": "@jupyter-widgets/controls",
            "_model_module_version": "1.5.0",
            "_model_name": "ProgressStyleModel",
            "_view_count": null,
            "_view_module": "@jupyter-widgets/base",
            "_view_module_version": "1.2.0",
            "_view_name": "StyleView",
            "bar_color": null,
            "description_width": ""
          }
        },
        "3ed6ad40126346378ce5cae23b0dabea": {
          "model_module": "@jupyter-widgets/base",
          "model_name": "LayoutModel",
          "model_module_version": "1.2.0",
          "state": {
            "_model_module": "@jupyter-widgets/base",
            "_model_module_version": "1.2.0",
            "_model_name": "LayoutModel",
            "_view_count": null,
            "_view_module": "@jupyter-widgets/base",
            "_view_module_version": "1.2.0",
            "_view_name": "LayoutView",
            "align_content": null,
            "align_items": null,
            "align_self": null,
            "border": null,
            "bottom": null,
            "display": null,
            "flex": null,
            "flex_flow": null,
            "grid_area": null,
            "grid_auto_columns": null,
            "grid_auto_flow": null,
            "grid_auto_rows": null,
            "grid_column": null,
            "grid_gap": null,
            "grid_row": null,
            "grid_template_areas": null,
            "grid_template_columns": null,
            "grid_template_rows": null,
            "height": null,
            "justify_content": null,
            "justify_items": null,
            "left": null,
            "margin": null,
            "max_height": null,
            "max_width": null,
            "min_height": null,
            "min_width": null,
            "object_fit": null,
            "object_position": null,
            "order": null,
            "overflow": null,
            "overflow_x": null,
            "overflow_y": null,
            "padding": null,
            "right": null,
            "top": null,
            "visibility": null,
            "width": null
          }
        },
        "c93564eb12944c5f9ae3004347d96166": {
          "model_module": "@jupyter-widgets/controls",
          "model_name": "DescriptionStyleModel",
          "model_module_version": "1.5.0",
          "state": {
            "_model_module": "@jupyter-widgets/controls",
            "_model_module_version": "1.5.0",
            "_model_name": "DescriptionStyleModel",
            "_view_count": null,
            "_view_module": "@jupyter-widgets/base",
            "_view_module_version": "1.2.0",
            "_view_name": "StyleView",
            "description_width": ""
          }
        }
      }
    }
  },
  "nbformat": 4,
  "nbformat_minor": 0
}