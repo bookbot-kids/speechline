{
 "cells": [
  {
   "cell_type": "markdown",
   "metadata": {},
   "source": [
    "### Test Noise Clasifier"
   ]
  },
  {
   "cell_type": "code",
   "execution_count": 1,
   "metadata": {},
   "outputs": [
    {
     "name": "stderr",
     "output_type": "stream",
     "text": [
      "/home/david/anaconda3/envs/speechline/lib/python3.8/site-packages/tqdm/auto.py:22: TqdmWarning: IProgress not found. Please update jupyter and ipywidgets. See https://ipywidgets.readthedocs.io/en/stable/user_install.html\n",
      "  from .autonotebook import tqdm as notebook_tqdm\n"
     ]
    }
   ],
   "source": [
    "import json\n",
    "from glob import glob\n",
    "from pathlib import Path\n",
    "\n",
    "import pytest\n",
    "from speechline.classifiers import Wav2Vec2Classifier\n",
    "from speechline.config import Config, SegmenterConfig, TranscriberConfig\n",
    "from speechline.run import Runner\n",
    "from speechline.segmenters import SilenceSegmenter\n",
    "from speechline.transcribers import Wav2Vec2Transcriber, WhisperTranscriber\n",
    "from speechline.utils.dataset import format_audio_dataset, prepare_dataframe\n",
    "from speechline.utils.io import export_transcripts_json\n",
    "from pydub import AudioSegment\n",
    "from speechline.classifiers import DistilAstNoiseClassifier\n"
   ]
  },
  {
   "cell_type": "code",
   "execution_count": 7,
   "metadata": {},
   "outputs": [
    {
     "name": "stderr",
     "output_type": "stream",
     "text": [
      "                                                                                      "
     ]
    },
    {
     "name": "stdout",
     "output_type": "stream",
     "text": [
      "[[[{'start_time': 0.0, 'end_time': 0.04, 'text': 'h'}, {'start_time': 0.14, 'end_time': 0.2, 'text': 'h'}, {'start_time': 0.24, 'end_time': 0.28, 'text': 'ɚ'}, {'start_time': 0.42, 'end_time': 0.44, 'text': 'i'}, {'start_time': 0.5, 'end_time': 0.54, 'text': 'd'}, {'start_time': 0.64, 'end_time': 0.66, 'text': 'ʌ'}, {'start_time': 0.7, 'end_time': 0.74, 'text': 'm'}, {'start_time': 0.78, 'end_time': 0.82, 'text': 'b'}, {'start_time': 0.84, 'end_time': 0.9, 'text': 'ɹ'}, {'start_time': 0.92, 'end_time': 0.94, 'text': 'ɛ'}, {'start_time': 1.0, 'end_time': 1.04, 'text': 'l'}, {'start_time': 1.08, 'end_time': 1.12, 'text': 'ə'}, {'start_time': 1.12, 'end_time': 1.36, 'text': '<SIL>'}, {'start_time': 1.36, 'end_time': 1.38, 'text': 'ɪ'}, {'start_time': 1.54, 'end_time': 1.58, 'text': 'z'}, {'start_time': 1.58, 'end_time': 1.62, 'text': 'd͡ʒ'}, {'start_time': 1.62, 'end_time': 1.66, 'text': 'ʌ'}, {'start_time': 1.72, 'end_time': 1.76, 'text': 's'}, {'start_time': 1.78, 'end_time': 1.82, 'text': 't'}, {'start_time': 1.86, 'end_time': 1.88, 'text': 'ð'}, {'start_time': 1.92, 'end_time': 1.94, 'text': 'ə'}, {'start_time': 1.98, 'end_time': 2.0, 'text': 'b'}, {'start_time': 2.04, 'end_time': 2.06, 'text': 'ɛ'}, {'start_time': 2.22, 'end_time': 2.26, 'text': 's'}, {'start_time': 2.38, 'end_time': 2.4, 'text': 't'}]], [[{'start_time': 0.0, 'end_time': 0.02, 'text': 'ɪ'}, {'start_time': 0.02, 'end_time': 0.26, 'text': '<SIL>'}, {'start_time': 0.26, 'end_time': 0.3, 'text': 't'}, {'start_time': 0.34, 'end_time': 0.36, 'text': 'ɪ'}, {'start_time': 0.42, 'end_time': 0.44, 'text': 'z'}, {'start_time': 0.5, 'end_time': 0.54, 'text': 'n'}, {'start_time': 0.54, 'end_time': 0.58, 'text': 'oʊ'}, {'start_time': 0.58, 'end_time': 0.62, 'text': 't'}, {'start_time': 0.76, 'end_time': 0.78, 'text': 'ʌ'}, {'start_time': 0.92, 'end_time': 0.94, 'text': 'p'}]], [[{'start_time': 0.0, 'end_time': 0.02, 'text': 's'}, {'start_time': 0.02, 'end_time': 0.26, 'text': '<SIL>'}, {'start_time': 0.26, 'end_time': 0.3, 'text': 'ə'}, {'start_time': 0.36, 'end_time': 0.4, 'text': 'b'}, {'start_time': 0.5, 'end_time': 0.52, 'text': 'l'}, {'start_time': 0.54, 'end_time': 0.56, 'text': 'ɛ'}, {'start_time': 0.6, 'end_time': 0.62, 'text': 'n'}, {'start_time': 0.68, 'end_time': 0.7, 'text': 's'}, {'start_time': 0.74, 'end_time': 0.76, 'text': 'ɪ'}, {'start_time': 0.82, 'end_time': 0.84, 'text': 'p'}, {'start_time': 0.88, 'end_time': 0.9, 'text': 'z'}, {'start_time': 1.04, 'end_time': 1.08, 'text': 'ə'}], [{'start_time': 0.0, 'end_time': 0.04, 'text': 'f'}, {'start_time': 0.08, 'end_time': 0.1, 'text': 'i'}, {'start_time': 0.16, 'end_time': 0.18, 'text': 't'}, {'start_time': 0.18, 'end_time': 0.2, 'text': 'p'}, {'start_time': 0.24, 'end_time': 0.26, 'text': 'l'}, {'start_time': 0.3, 'end_time': 0.32, 'text': 'i'}, {'start_time': 0.42, 'end_time': 0.46, 'text': 's'}, {'start_time': 0.5, 'end_time': 0.52, 'text': 'æ'}, {'start_time': 0.66, 'end_time': 0.68, 'text': 'æ'}, {'start_time': 0.78, 'end_time': 0.8, 'text': 'p'}, {'start_time': 0.84, 'end_time': 0.86, 'text': 'l'}, {'start_time': 0.9, 'end_time': 0.92, 'text': 'æ'}, {'start_time': 1.0, 'end_time': 1.02, 'text': 'p'}, {'start_time': 1.16, 'end_time': 1.18, 'text': 'ə'}]]]\n"
     ]
    },
    {
     "name": "stderr",
     "output_type": "stream",
     "text": [
      "\r"
     ]
    }
   ],
   "source": [
    "datadir = \"/home/BookBot/speechline/tests/test_ml\"\n",
    "tmpdir = \"/home/BookBot/speechline/tests/test_ml_output\"\n",
    "\n",
    "model_checkpoint = \"bookbot/wav2vec2-ljspeech-gruut\"\n",
    "noise_classifier_checkpoint = \"bookbot/distil-ast-audioset\"\n",
    "transcriber = Wav2Vec2Transcriber(model_checkpoint)\n",
    "df = prepare_dataframe(datadir)\n",
    "dataset = format_audio_dataset(df, sampling_rate=transcriber.sampling_rate)\n",
    "transcriptions = transcriber.predict(dataset, return_timestamps=\"char\")\n",
    "\n",
    "output_offsets = transcriber.predict(\n",
    "    dataset, return_timestamps=\"char\", output_offsets=True\n",
    ")\n",
    "\n",
    "segmenter = SilenceSegmenter()\n",
    "segments = []\n",
    "for audio_path, offsets in zip(df[\"audio\"], output_offsets):\n",
    "    json_path = Path(audio_path).with_suffix(\".json\")\n",
    "    export_transcripts_json(json_path, offsets)\n",
    "    assert json_path.exists()\n",
    "    assert json.load(open(json_path)) == offsets\n",
    "\n",
    "    \n",
    "    segment = segmenter.chunk_audio_segments(\n",
    "        audio_path,\n",
    "        tmpdir,\n",
    "        offsets,\n",
    "        minimum_chunk_duration=0.7,\n",
    "        silence_duration=0.3,\n",
    "    )\n",
    "\n",
    "    segment = segmenter.insert_silence_tag(segment, 0.2)\n",
    "    classifier = DistilAstNoiseClassifier(noise_classifier_checkpoint)\n",
    "    segment = segmenter.classify_noise(segment, classifier, audio_path)\n",
    "    segments.append(segment)\n",
    "print(segments)\n",
    "\n"
   ]
  },
  {
   "cell_type": "code",
   "execution_count": 131,
   "metadata": {},
   "outputs": [
    {
     "name": "stdout",
     "output_type": "stream",
     "text": [
      "<class 'array.array'>\n"
     ]
    },
    {
     "name": "stderr",
     "output_type": "stream",
     "text": [
      "                                                                        \r"
     ]
    },
    {
     "data": {
      "text/plain": [
       "[[{'label': 'Speech', 'score': 0.8289180397987366},\n",
       "  {'label': 'Music', 'score': 0.3479023575782776}]]"
      ]
     },
     "execution_count": 131,
     "metadata": {},
     "output_type": "execute_result"
    }
   ],
   "source": [
    "from pydub import AudioSegment\n",
    "start_time =  0.0\n",
    "end_time = 10.0\n",
    "\n",
    "\n",
    "\n",
    "\n",
    "audio = AudioSegment.from_file(\"/home/BookBot/speechline/examples/--aE2O5G5WE.wav\")\n",
    "# audio = audio[start_time*1000:end_time*1000]\n",
    "print(type(audio.get_array_of_samples()))\n",
    "audio_array, sr = pydub_to_np(audio)\n",
    "\n",
    "# audio_bytes = audio.raw_data\n",
    "\n",
    "audio_target_dataset = Dataset.from_dict({\"audio\": [\"/home/BookBot/speechline/examples/--aE2O5G5WE.wav\"]}).cast_column(\"audio\", Audio())\n",
    "audio_dataset = Dataset.from_dict({\"audio\": [{'path': None, 'array': audio_array, 'sampling_rate':sr}]}).cast_column(\"audio\", Audio())\n",
    "# audio_dataset = Dataset.from_dict({\"audio\": [{'path': None, 'bytes': audio_bytes}]}).cast_column(\"audio\", Audio())\n",
    "\n",
    "# print(audio_target_dataset[0]['audio'])\n",
    "# print(audio_dataset[0]['audio'])\n",
    "# ast(filepath[0], top_k=None)\n",
    "classifier.predict(audio_dataset, threshold=0.2)"
   ]
  }
 ],
 "metadata": {
  "kernelspec": {
   "display_name": "Python 3.8.16 ('speechline': conda)",
   "language": "python",
   "name": "python3"
  },
  "language_info": {
   "codemirror_mode": {
    "name": "ipython",
    "version": 3
   },
   "file_extension": ".py",
   "mimetype": "text/x-python",
   "name": "python",
   "nbconvert_exporter": "python",
   "pygments_lexer": "ipython3",
   "version": "3.8.16"
  },
  "orig_nbformat": 4,
  "vscode": {
   "interpreter": {
    "hash": "7b97b49b9921856ec76efbc521e7ffd2c0801daa6c90ba1633669d647e328d67"
   }
  }
 },
 "nbformat": 4,
 "nbformat_minor": 2
}
