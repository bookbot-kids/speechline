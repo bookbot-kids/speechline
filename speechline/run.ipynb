{
 "cells": [
  {
   "cell_type": "code",
   "execution_count": 1,
   "metadata": {},
   "outputs": [],
   "source": []
  },
  {
   "cell_type": "code",
   "execution_count": 1,
   "metadata": {},
   "outputs": [
    {
     "name": "stderr",
     "output_type": "stream",
     "text": [
      "/home/david/anaconda3/envs/speechline/lib/python3.8/site-packages/tqdm/auto.py:22: TqdmWarning: IProgress not found. Please update jupyter and ipywidgets. See https://ipywidgets.readthedocs.io/en/stable/user_install.html\n",
      "  from .autonotebook import tqdm as notebook_tqdm\n"
     ]
    }
   ],
   "source": [
    "from speechline.classifiers import DistilAstNoiseClassifier\n",
    "\n",
    "classifier = DistilAstNoiseClassifier(\"bookbot/distil-ast-audioset\")"
   ]
  },
  {
   "cell_type": "code",
   "execution_count": 70,
   "metadata": {},
   "outputs": [
    {
     "name": "stdout",
     "output_type": "stream",
     "text": [
      "The autoreload extension is already loaded. To reload it, use:\n",
      "  %reload_ext autoreload\n"
     ]
    },
    {
     "name": "stderr",
     "output_type": "stream",
     "text": [
      "                                                                        \r"
     ]
    },
    {
     "data": {
      "text/plain": [
       "[[], [{'label': 'Music', 'score': 0.9374052286148071}]]"
      ]
     },
     "execution_count": 70,
     "metadata": {},
     "output_type": "execute_result"
    }
   ],
   "source": [
    "%load_ext autoreload\n",
    "%autoreload 2\n",
    "%reload_ext autoreload\n",
    "from transformers import ASTFeatureExtractor\n",
    "import torchaudio\n",
    "from datasets import Dataset, Audio\n",
    "from transformers import pipeline\n",
    "import torch\n",
    "\n",
    "ast = pipeline(\n",
    "            \"audio-classification\",\n",
    "            model=\"MIT/ast-finetuned-audioset-10-10-0.4593\",\n",
    "            feature_extractor = \"MIT/ast-finetuned-audioset-10-10-0.4593\",\n",
    "            device=0 if torch.cuda.is_available() else -1,\n",
    "            function_to_apply=\"none\")\n",
    "\n",
    "\n",
    "feature_extractor = ASTFeatureExtractor()\n",
    "filepath = [\"/home/BookBot/speechline/examples/--aE2O5G5WE.wav\", \"/home/BookBot/speechline/examples/-1TLtjPtnms.wav\"]\n",
    "\n",
    "audio_dataset = Dataset.from_dict({\"audio\": filepath}).cast_column(\"audio\", Audio())\n",
    "# ast(filepath[0], top_k=None)\n",
    "classifier.predict(audio_dataset, threshold=0.9)"
   ]
  },
  {
   "cell_type": "code",
   "execution_count": 2,
   "metadata": {},
   "outputs": [
    {
     "name": "stdout",
     "output_type": "stream",
     "text": [
      "[]\n"
     ]
    }
   ],
   "source": [
    "a = []\n",
    "if not a:\n",
    "    print(a)"
   ]
  },
  {
   "cell_type": "code",
   "execution_count": 54,
   "metadata": {},
   "outputs": [
    {
     "name": "stdout",
     "output_type": "stream",
     "text": [
      "(array([0, 2]),)\n"
     ]
    }
   ],
   "source": [
    "import numpy as np\n",
    "threshold = 0.5\n",
    "probs =  np.array([0.8289180397987366, 0.3479023575782776, 0.8289180397987366])\n",
    "y_pred = np.zeros(probs.shape)\n",
    "print(np.where(probs >= threshold))"
   ]
  },
  {
   "cell_type": "code",
   "execution_count": null,
   "metadata": {},
   "outputs": [],
   "source": []
  },
  {
   "cell_type": "code",
   "execution_count": 128,
   "metadata": {},
   "outputs": [],
   "source": [
    "dict = {'array':audio_array}\n",
    "dict['array']\n",
    "\n",
    "def pydub_to_np(audio):\n",
    "    \"\"\"\n",
    "    Converts pydub audio segment into np.float32 of shape [duration_in_seconds*sample_rate, channels],\n",
    "    where each value is in range [-1.0, 1.0]. \n",
    "    Returns tuple (audio_np_array, sample_rate).\n",
    "    \"\"\"\n",
    "    return np.array(audio.get_array_of_samples(), dtype=np.float32).reshape((-1, audio.channels)) / (\n",
    "            1 << (8 * audio.sample_width - 1)), audio.frame_rate"
   ]
  },
  {
   "cell_type": "code",
   "execution_count": 131,
   "metadata": {},
   "outputs": [
    {
     "name": "stdout",
     "output_type": "stream",
     "text": [
      "<class 'array.array'>\n"
     ]
    },
    {
     "name": "stderr",
     "output_type": "stream",
     "text": [
      "                                                                        \r"
     ]
    },
    {
     "data": {
      "text/plain": [
       "[[{'label': 'Speech', 'score': 0.8289180397987366},\n",
       "  {'label': 'Music', 'score': 0.3479023575782776}]]"
      ]
     },
     "execution_count": 131,
     "metadata": {},
     "output_type": "execute_result"
    }
   ],
   "source": [
    "from pydub import AudioSegment\n",
    "start_time =  0.0\n",
    "end_time = 10.0\n",
    "\n",
    "\n",
    "\n",
    "\n",
    "audio = AudioSegment.from_file(\"/home/BookBot/speechline/examples/--aE2O5G5WE.wav\")\n",
    "# audio = audio[start_time*1000:end_time*1000]\n",
    "print(type(audio.get_array_of_samples()))\n",
    "audio_array, sr = pydub_to_np(audio)\n",
    "\n",
    "# audio_bytes = audio.raw_data\n",
    "\n",
    "audio_target_dataset = Dataset.from_dict({\"audio\": [\"/home/BookBot/speechline/examples/--aE2O5G5WE.wav\"]}).cast_column(\"audio\", Audio())\n",
    "audio_dataset = Dataset.from_dict({\"audio\": [{'path': None, 'array': audio_array, 'sampling_rate':sr}]}).cast_column(\"audio\", Audio())\n",
    "# audio_dataset = Dataset.from_dict({\"audio\": [{'path': None, 'bytes': audio_bytes}]}).cast_column(\"audio\", Audio())\n",
    "\n",
    "# print(audio_target_dataset[0]['audio'])\n",
    "# print(audio_dataset[0]['audio'])\n",
    "# ast(filepath[0], top_k=None)\n",
    "classifier.predict(audio_dataset, threshold=0.2)"
   ]
  }
 ],
 "metadata": {
  "kernelspec": {
   "display_name": "Python 3.8.16 ('speechline': conda)",
   "language": "python",
   "name": "python3"
  },
  "language_info": {
   "codemirror_mode": {
    "name": "ipython",
    "version": 3
   },
   "file_extension": ".py",
   "mimetype": "text/x-python",
   "name": "python",
   "nbconvert_exporter": "python",
   "pygments_lexer": "ipython3",
   "version": "3.8.16"
  },
  "orig_nbformat": 4,
  "vscode": {
   "interpreter": {
    "hash": "7b97b49b9921856ec76efbc521e7ffd2c0801daa6c90ba1633669d647e328d67"
   }
  }
 },
 "nbformat": 4,
 "nbformat_minor": 2
}
